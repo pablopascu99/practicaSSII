{
 "cells": [
  {
   "cell_type": "code",
   "execution_count": 64,
   "metadata": {},
   "outputs": [],
   "source": [
    "import re\n",
    "import pandas as pd\n",
    "from sklearn.feature_extraction.text import TfidfVectorizer"
   ]
  },
  {
   "cell_type": "markdown",
   "metadata": {},
   "source": [
    "Creamos los dos documentos con los ficheros de noticias extraidos del Mundo, lo abrimos cogemos el texto y lo cerramos. "
   ]
  },
  {
   "cell_type": "code",
   "execution_count": 65,
   "metadata": {},
   "outputs": [
    {
     "name": "stdout",
     "output_type": "stream",
     "text": [
      "Reino Unido anuncia que ofrecerá la tercera dosis a todos los adultos antes de que termine enero\n",
      "######\n",
      "El Gobierno británico quiere potenciar la vacunación ante la llegada de ómicron, que podría estar transmitiéndose ya a nivel comunitario según reconocen las autoridades británicas, aunque descartan un nuevo confinamiento.\n",
      "######\n",
      "Los datos todavía no son alarmantes, pero Reino Unido no esconde que la incidencia de la variante ómicron del coronavirus podría ir más allá de los 22 casos que han sido confirmados hasta el día de hoy. \"Hay que ser realistas, es probable que se esté produciendo una transmisión comunitaria\", ha admitido Sajid Javid, ministro de Sanidad británico. Es, por tanto, según reconocen las autoridades sanitarias del país, cuestión de tiempo que la ómicron se extienda por todo el territorio, por lo que lo relevante ahora es saber qué hacer durante el margen que se obtenga con las nuevas restricciones. Por el momento, y descartada ya la posibilidad de volver a un nuevo confinamiento, lo que ha anunciado el Gobierno es el objetivo de ofrecer la tercera dosis de la vacuna a toda la población adulta antes de que termine enero.Una empresa francamente complicada pero necesaria para afrontar las Navidades. De acuerdo a los datos oficiales, solo tres de cada 10 británicos mayores de 12 años tienen la tercera dosis, es decir, casi 18 millones de personas. Aunque se aumentase el ritmo actual de vacunación de 2,5 millones de dosis a la semana a 3,5 millones, que es el objetivo del Gobierno, no se conseguiría vacunar a toda la población adulta hasta mediados de febrero. Y todo ello, además, tendrá que orquestarse en el punto más crudo del invierno, que es precisamente el momento del año en el que más sufre el sistema nacional de salud. \"Los centros temporales de vacunación van a ir apareciendo como arbolitos de Navidad\", ha apuntado el primer ministro, Boris Johnson.Para ayudar, ha anunciado que destinará 400 militares para apoyar la campaña de vacunación del invierno, aunque ha pedido a la población que vuelva a ofrecerse voluntaria para ayudar en la administración de las dosis. El orden, como ha ocurrido hasta ahora, priorizará la edad, la condición médica y la profesión que se desarrolle. \"Al igual que ocurrió con la primera dosis el año pasado, priorizaremos a la gente en orden descendente de edad en grupos de cinco años para asegurarnos de que protegemos primero a los más vulnerables\", ha explicado el primer ministro en rueda de prensa.Ahora mismo, en cualquier caso, el proceso está bastante avanzado en cuanto a los más mayores, pues ya se está ofreciendo la posibilidad de reservar cita para la tercera dosis a los mayores de 40 años. Además, y para acortar plazos, el Comité Conjunto de Vacunación e Inmunización británico, el JCVI, también ha recomendado al Gobierno reducir el tiempo necesario entre el segundo y el tercer pinchazo a tres meses.Más allá de la campaña de vacunación, existe el miedo de que vuelva el confinamiento y se acabe con la libertad prácticamente absoluta que se disfruta desde el pasado 19 de julio. El primer ministro, en este sentido, ha querido ser tajante asegurando que las posibilidades de volver a un escenario de restricciones severas son \"absolutamente remotas\", ya que ahora mismo no se contempla tal escenario, aunque no se descarte para el futuro.Uno de los temas del día, en cualquier caso, han sido las palabras de Jenny Harries, directora ejecutiva de la Agencia de Seguridad Sanitaria del Reino Unido, pidiendo a la ciudadanía que limitase los contactos sociales en las próximas fechas para evitar la transmisión, una petición que ha sido contundentemente rechazada desde Downing Street. \"Se trata de que nos enfrentemos a esto desde un punto de vista equilibrado\", ha zanjado Johnson. A día de hoy, de hecho, no solo no ha recomendado que vuelva el teletrabajo, sino que tampoco ha pedido a las empresas que cancelen las cenas de Navidad ni a las familias que cambien sus posibles vacaciones en el extranjero.En cuanto a la expansión de la variante ómicron, y a la espera de conocer el resultado de los estudios médicos, desde el Gobierno se insiste en que las restricciones estrenadas hoy -es decir, las de los vuelos procedentes del sur de África y la obligación de utilizar mascarilla en tiendas y transporte público- no estarán ni un minuto más de lo necesario si se demuestra que no es más peligrosa que la delta. Eso sí, pese a que solo se han detectado 22 casos en todo el territorio hasta el día de hoy, el ministro de Sanidad, Sajid Javid, ha admitido que hay que ser \"realistas\" y dar por hecho que en algún lugar del país seguramente se esté produciendo una transmisión comunitaria de la nueva mutación del virus.\n",
      "######\n",
      "Ciencia y Salud|Coronavirus|Covid 19|Enfermedades infecciosas|Enfermedades respiratorias|Variante Ómicron|Reino Unido|Vacunas|\n",
      "######\n",
      "2021-11-30\n",
      "\n",
      "\n"
     ]
    }
   ],
   "source": [
    "fileA = open(\"./ElMundo/salud/ElMundo_salud_2021-11-30_49.txt\", 'r', encoding=\"utf-8\")\n",
    "docA = fileA.read()\n",
    "fileA.close()\n",
    "print(docA)"
   ]
  },
  {
   "cell_type": "code",
   "execution_count": 66,
   "metadata": {},
   "outputs": [
    {
     "name": "stdout",
     "output_type": "stream",
     "text": [
      "España supera los 200 casos hasta llegar a los 208 tras notificar 10.261 contagios\n",
      "######\n",
      "Sanidad también informa de que se han producido 44 muertes \n",
      "######\n",
      "El indicador de incidencia acumulada (IA) se sitúa este martes en los 208,5 casos por 100.000 habitantes, después de un aumento de más de ocho puntos. La incidencia a siete días, clave para detectar posibles cambios de tendencia, se sitúa en 118,24 casos por 100.000, según el último informe del Ministerio de Sanidad.El número de nuevos casos, junto a la mortalidad, marcan una ligera tendencia a la baja. Se han notificado 10.261 casos hoy, frente a los 22.911 del lunes, y 44 fallecimientos, frente a 53. Desde el inicio de la pandemia, Sanidad ha registrado un total de 5.164.184 casos y 88.052 fallecidos.Por edades, el grupo más afectado continúa siendo el de menos de 11 años, con una IA de 342,94 (casi 20 puntos superior a la del lunes). Le siguen el grupo de entre 40 y 49 años (249,08) y el de entre 30 y 39 (212,71), y la población restante se mantiene entre los 150-210 puntos, exceptuando el grupo de entre 12 y 19 años, que registra una IA de 111,99.Las regiones más afectadas a día de hoy son Navarra, con una IA de 588,33; País Vasco (484,66) y Aragón (370,24). Extremadura (91,54), Ceuta (97,38), Andalucía (103,98), Castilla-La Mancha (116,71) y Madrid (142,11) son las que mantienen una incidencia más baja. En cuanto a la situación hospitalaria, el porcentaje de camas ocupadas con enfermos del coronavirus en los hospitales se sitúa en el 3,1% y sube hasta a un 7,76% la de las camas de las unidades de cuidados intensivos.Tras subir casi medio punto, España mantiene sus UCI en riesgo bajo, ya que el porcentaje total de ocupación por pacientes Covid-19 es menor de diez. Aun así, para calcular la ocupación real hay que sumar los que se encuentren ingresados por otras patologías o cirugías.A nivel europeo, Chequia pasa a ser el país con la mayor incidencia (2.242,9), seguido de Austria (2.087,7) y Bélgica (1.893,6). Los países más desahogados del continente son, un día más, Suecia (160,1), Rumanía (162,3) y España, según el informe del Centro de Coordinación de Alertas y Emergencias Sanitarias (CCAES).AVANCE DE LA VACUNACIÓNContinúa el lento goteo de la vacunación una vez alcanzado el 89,3% de la población diana con pauta completa. En concreto, 37.615.143 personas han recibido ya la pauta completa. Por edades, el grupo de más de 80 años es el único que alcanza el 100%, mientras que el de entre 30 y 39 años se queda en el 77,4%, constituyéndose así como la franja de edad con menor porcentaje de vacunados. Según los datos del Ministerio de Sanidad, ya se han administrado 4.943.463 terceras dosis, 4.013.541 de Pfizer y 929.922 de Moderna. Por el momento, los datos solo recogen las dosis adicionales en personas de edad superior a 70 años o que hubiesen recibido Janssen, aunque ya se ha comenzado también a inocular la dosis de refuerzo para los mayores de 60 años y los sanitarios.\n",
      "######\n",
      "Noticia sin etiquetas\n",
      "######\n",
      "2021-11-30\n",
      "\n",
      "\n"
     ]
    }
   ],
   "source": [
    "fileB = open(\"./ElMundo/salud/ElMundo_salud_2021-11-30_50.txt\", 'r', encoding=\"utf-8\")\n",
    "docB = fileB.read()\n",
    "fileB.close()\n",
    "print(docB)"
   ]
  },
  {
   "cell_type": "markdown",
   "metadata": {},
   "source": [
    "Usamos la estrategia 'Bag of words': Se usa para crear un vocabulario. Se identifican los términos de los documentos de la colección. D = {d1, d2, ..., dn}  Y si un término aparece en alguno de los documentos, pasa directamente a formar parte del vocabulario. V = {t1, t2, ..., tm}. "
   ]
  },
  {
   "cell_type": "code",
   "execution_count": 67,
   "metadata": {},
   "outputs": [],
   "source": [
    "bagA = re.split('\\n######\\n|\\|| |\\(|\\)|\\.|\\,|\\”|\\“|\\[|\\]',docA)"
   ]
  },
  {
   "cell_type": "code",
   "execution_count": 68,
   "metadata": {},
   "outputs": [],
   "source": [
    "bagB = re.split('\\n######\\n|\\|| |\\(|\\)|\\.|\\,|\\”|\\“|\\[|\\]',docB)"
   ]
  },
  {
   "cell_type": "markdown",
   "metadata": {},
   "source": [
    "Como vemos obtenemos las palabras de los dos documentos pero desordenadas y repetidas una sola vez."
   ]
  },
  {
   "cell_type": "code",
   "execution_count": 69,
   "metadata": {},
   "outputs": [],
   "source": [
    "tabla = set(bagA).union(set(bagB))"
   ]
  },
  {
   "cell_type": "markdown",
   "metadata": {},
   "source": [
    "Observamos que ahora si que obtenemos los vectores (repeticiones de las palabras de cada doc), las repeticiones dependerá de cada documento, no es habitual que tengan las mismas."
   ]
  },
  {
   "cell_type": "code",
   "execution_count": 70,
   "metadata": {},
   "outputs": [
    {
     "name": "stdout",
     "output_type": "stream",
     "text": [
      "605\n",
      "{'detectado': 1, 'LA': 0, 'trata': 1, 'qué': 1, 'hasta': 4, 'tiendas': 1, 'Andalucía': 0, 'pese': 1, 'comenzado': 0, 'El': 3, 'ocurrió': 1, 'Desde': 0, 'comunitaria\"': 1, 'sanitarios': 0, 'Salud': 1, 'Enfermedades': 2, 'directora': 1, 'se': 15, '3': 1, 'ejecutiva': 1, 'Bélgica': 0, '2': 1, 'cambios': 0, 'tanto': 1, 'reservar': 1, 'enfrentemos': 1, 'familias': 1, 'Noticia': 0, 'hay': 1, 'Y': 1, 'ministro': 5, 'tendrá': 1, 'cambien': 1, 'edad': 2, 'prensa': 1, 'a': 24, 'baja': 0, 'Variante': 1, 'caso': 2, 'etiquetas': 0, 'orden': 2, '052': 0, 'mutación': 1, 'del': 11, 'querido': 1, 'Más': 1, 'tal': 1, 'el': 32, 'tiempo': 2, '\"Al': 1, 'Por': 1, '1': 0, 'minuto': 1, 'nueva': 1, '013': 0, 'Mancha': 0, 'ofreciendo': 1, 'Covid': 1, 'comunitario': 1, '400': 1, 'ligera': 0, 'Navidad\"': 1, 'más': 7, 'pues': 1, 'infecciosas': 1, 'tras': 0, 'día': 4, '100%': 0, '929': 0, 'Rumanía': 0, 'cancelen': 1, '80': 0, 'variante': 2, 'País': 0, '\"Los': 1, 'mantienen': 0, '943': 0, 'quiere': 1, 'Jenny': 1, 'acumulada': 0, 'desahogados': 0, 'JCVI': 1, 'adulta': 2, '463': 0, 'autoridades': 2, 'ha': 14, 'disfruta': 1, 'un': 5, 'Sanitaria': 1, 'Austria': 0, 'nuevos': 0, 'procedentes': 1, 'alcanza': 0, 'descartan': 1, '99': 0, '76%': 0, 'al': 1, '89': 0, 'necesario': 2, 'alcanzado': 0, 'meses': 1, 'año': 2, 'respiratorias': 1, '6': 0, 'vacunados': 0, 'Johnson': 2, 'priorizará': 1, 'decir': 2, 'voluntaria': 1, 'exceptuando': 0, 'francamente': 1, 'cuidados': 0, 'mayores': 3, 'tercer': 1, 'contactos': 1, '184': 0, 'severas': 1, 'rechazada': 1, 'informa': 0, '38': 0, '37': 0, 'seguido': 0, 'junto': 0, 'menor': 0, 'sino': 1, 'sanitarias': 1, 'Una': 1, 'bastante': 1, 'delta': 1, 'algún': 1, 'fallecidos': 0, 'primer': 3, '087': 0, 'actual': 1, 'contundentemente': 1, 'entre': 1, 'Agencia': 1, 'teletrabajo': 1, 'orquestarse': 1, 'acortar': 1, 'transporte': 1, 'total': 0, 'años': 3, 'reducir': 1, 'espera': 1, 'complicada': 1, 'inicio': 0, 'pasa': 0, 'pedido': 2, 'La': 0, 'muertes': 0, 'europeo': 0, 'semana': 1, 'las': 13, 'ofrecerá': 1, 'saber': 1, 'ya': 4, 'Downing': 1, 'resultado': 1, 'nivel': 1, 'siete': 0, '7': 0, '150-210': 0, 'Boris': 1, '24': 0, 'otras': 0, 'país': 2, 'estarán': 1, 'España': 0, '118': 0, 'Según': 0, 'insiste': 1, 'demuestra': 1, 'regiones': 0, 'cenas': 1, 'CCAES': 0, '5': 2, 'asegurando': 1, 'población': 3, 'aunque': 3, 'afectadas': 0, 'absoluta': 1, 'goteo': 0, 'Eso': 1, '60': 0, '615': 0, 'Navarra': 0, '588': 0, '208': 0, 'menos': 0, 'mediados': 1, 'marcan': 0, 'Castilla-La': 0, 'Madrid': 0, 'Moderna': 0, 'para': 8, 'sido': 3, 'apareciendo': 1, 'Ahora': 1, 'una': 3, 'desarrolle': 1, 'oficiales': 1, 'todavía': 1, 'tendencia': 0, 'ofrecer': 1, 'anuncia': 1, 'británico': 3, 'mientras': 0, '97': 0, 'peligrosa': 1, 'VACUNACIÓNContinúa': 0, '111': 0, 'público-': 1, 'salud': 1, 'alarmantes': 1, 'descendente': 1, '10': 1, 'volver': 2, 'tienen': 1, 'Los': 1, 'contagios': 0, 'ayudar': 2, '164': 0, '98': 0, 'ómicron': 4, 'mascarilla': 1, 'Conjunto': 1, 'petición': 1, 'e': 1, 'enfermos': 0, 'África': 1, 'zanjado': 1, 'primera': 1, 'apuntado': 1, 'coronavirus': 1, 'británicos': 1, 'Chequia': 0, 'potenciar': 1, 'ello': 1, 'gente': 1, 'febrero': 1, 'todo': 3, 'lunes': 0, 'además': 1, 'bajo': 0, 'de': 55, '88': 0, 'Reino': 4, 'cuestión': 1, 'son': 2, 'sin': 0, 'admitido': 2, '44': 0, 'apoyar': 1, 'ir': 2, 'descarte': 1, 'solo': 3, 'desde': 4, 'Javid': 2, '911': 0, 'esté': 2, 'termine': 2, 'adultos': 1, 'días': 0, 'escenario': 2, 'arbolitos': 1, 'Alertas': 0, 'sitúa': 0, 'millones': 3, 'priorizaremos': 1, 'clave': 0, 'Sajid': 2, 'limitase': 1, '103': 0, 'anunciado': 2, 'hacer': 1, 'administrado': 0, 'Unido': 4, 'pandemia': 0, 'cita': 1, 'continente': 0, 'Se': 0, 'terceras': 0, 'afectado': 0, 'vacaciones': 1, '71': 0, 'edades': 0, 'temas': 1, 'personas': 1, 'inocular': 0, 'ofrecerse': 1, 'lento': 0, 'pasado': 2, 'fallecimientos': 0, 'nuevas': 1, 'enero': 2, 'sur': 1, 'cada': 1, 'Sanidad': 2, 'sumar': 0, 'existe': 1, 'nos': 1, 'por': 4, '3%': 0, 'frente': 0, 'que': 39, 'explicado': 1, '40': 1, 'sus': 1, '94': 0, 'AVANCE': 0, 'Le': 0, 'profesión': 1, 'sociales': 1, '53': 0, 'precisamente': 1, 'estar': 1, '242': 0, '922': 0, 'Uno': 1, 'empresas': 1, 'nuevo': 2, '342': 0, 'seguramente': 1, 'registrado': 0, 'En': 1, 'extienda': 1, '100': 0, 'restante': 0, 'Extremadura': 0, 'casos': 2, 'miedo': 1, 'informe': 0, 'Harries': 1, 'utilizar': 1, 'vacuna': 1, '200': 0, 'estrenadas': 1, 'ocupadas': 0, 'Pfizer': 0, '49': 0, 'De': 1, '000': 0, 'mortalidad': 0, 'Seguridad': 1, 'Coronavirus': 1, 'número': 0, 'calcular': 0, 'expansión': 1, 'Tras': 0, 'acuerdo': 1, 'Janssen': 0, 'extranjero': 1, 'van': 1, 'conocer': 1, '54': 0, 'según': 2, 'Inmunización': 1, '212': 0, 'franja': 0, 'aumento': 0, 'Suecia': 0, 'podría': 2, 'contempla': 1, 'recibido': 0, '261': 0, 'subir': 0, 'Ministerio': 0, '162': 0, 'sentido': 1, 'evitar': 1, 'transmitiéndose': 1, '18': 1, '\"realistas\"': 1, 'con': 3, 'militares': 1, 'Es': 1, 'ni': 2, 'mantiene': 0, 'Coordinación': 0, 'sistema': 1, '\"Se': 1, 'relevante': 1, 'notificado': 0, 'Ceuta': 0, '4': 0, 'afrontar': 1, '370': 0, 'Aun': 0, 'dar': 1, '20': 0, 'durante': 1, '30': 0, 'julio': 1, '12': 1, 'tres': 2, 'vuelva': 3, 'Ómicron': 1, 'antes': 2, 'Además': 1, 'plazos': 1, 'queda': 0, 'crudo': 1, '19': 2, 'confinamiento': 3, 'virus': 1, 'vacunación': 5, 'casi': 1, 'Vacunas': 1, 'incidencia': 1, 'si': 1, '4%': 0, 'en': 16, 'hospitalaria': 0, 'registra': 0, 'prácticamente': 1, 'ingresados': 0, '116': 0, 'posibilidades': 1, '541': 0, 'hoy': 4, 'mayor': 0, 'ritmo': 1, '91': 0, 'porcentaje': 0, 'notificar': 0, 'Sanitarias': 0, 'tercera': 4, 'vuelos': 1, 'Vacunación': 1, 'superior': 0, 'DE': 0, 'datos': 2, 'empresa': 1, '11': 0, 'diez': 0, '66': 0, 'vacunar': 1, 'palabras': 1, 'pidiendo': 1, 'cirugías': 0, 'momento': 2, 'Navidades': 1, 'médica': 1, 'ocurrido': 1, 'grupos': 1, 'tampoco': 1, 'siendo': 0, 'UCI': 0, 'detectar': 0, '2021-11-30\\n\\n': 1, 'próximas': 1, 'concreto': 0, 'comunitaria': 1, '143': 0, 'todos': 1, 'continúa': 0, '1%': 0, 'lugar': 1, 'margen': 1, 'obligación': 1, 'A': 1, 'ante': 1, 'allá': 2, 'situación': 0, 'Centro': 0, 'está': 2, 'pauta': 0, 'la': 34, 'hubiesen': 0, 'obtenga': 1, 'riesgo': 0, 'siguen': 0, 'conseguiría': 1, 'reconocen': 2, 'real': 0, 'igual': 1, 'hecho': 2, '70': 0, 'británicas': 1, 'rueda': 1, 'Aragón': 0, '08': 0, 'países': 0, 'y': 10, 'primero': 1, 'acabe': 1, 'nacional': 1, 'Para': 1, 'protegemos': 1, 'medio': 0, 'patologías': 0, 'no': 9, 'ocupación': 0, '22': 2, 'camas': 0, 'vista': 1, 'asegurarnos': 1, 'después': 0, 'pinchazo': 1, 'proceso': 1, '33;': 0, 'fechas': 1, 'remotas\"': 1, 'completa': 0, '160': 0, 'recomendado': 2, 'ahora': 3, '142': 0, 'refuerzo': 0, 'posibilidad': 2, '-es': 1, 'los': 10, 'destinará': 1, 'administración': 1, 'probable': 1, 'pero': 2, 'Las': 0, 'grupo': 0, 'médicos': 1, 'martes': 0, 'campaña': 2, 'Street': 1, 'recogen': 0, 'Aunque': 1, 'diana': 0, 'único': 0, 'dosis': 7, '39': 0, 'temporales': 1, 'como': 2, '484': 0, 'indicador': 0, 'tajante': 1, 'transmisión': 3, 'Comité': 1, 'libertad': 1, 'invierno': 2, 'vez': 0, 'necesaria': 1, 'llegada': 1, 'produciendo': 2, 'estudios': 1, '\"absolutamente': 1, 'equilibrado\"': 1, 'ciudadanía': 1, '\"Hay': 1, 'así': 0, 'llegar': 0, 'condición': 1, 'intensivos': 0, 'IA': 0, 'ocho': 0, 'sube': 0, 'o': 0, 'posibles': 1, 'Ciencia': 1, 'centros': 1, 'objetivo': 2, 'descartada': 1, 'avanzado': 1, 'producido': 0, 'Gobierno': 5, 'toda': 2, 'mismo': 2, 'realistas': 1, 'confirmados': 1, 'puntos': 0, 'Covid-19': 0, 'cualquier': 2, 'adicionales': 0, 'sí': 1, '9': 0, 'restricciones': 3, 'encuentren': 0, 'supera': 0, 'Vasco': 0, 'cinco': 1, '893': 0, 'habitantes': 0, 'segundo': 1, 'Emergencias': 0, '77': 0, 'han': 3, 'punto': 2, 'futuro': 1, 'también': 1, 'sufre': 1, 'este': 1, 'hospitales': 0, 'cuanto': 2, 'aumentase': 1, 'unidades': 0, 'esconde': 1, 'último': 0, 'pacientes': 0, 'lo': 4, 'esto': 1, 'Navidad': 1, 'vulnerables\"': 1, 'territorio': 2, 'constituyéndose': 0, 'es': 7, '249': 0, 'ser': 3}\n"
     ]
    }
   ],
   "source": [
    "palabrasA = dict.fromkeys(tabla, 0)\n",
    "for p in bagA:\n",
    "    palabrasA[p] += 1\n",
    "del palabrasA['']\n",
    "print(len(palabrasA.keys()))\n",
    "print(palabrasA)"
   ]
  },
  {
   "cell_type": "code",
   "execution_count": 71,
   "metadata": {},
   "outputs": [
    {
     "name": "stdout",
     "output_type": "stream",
     "text": [
      "605\n",
      "{'detectado': 0, 'LA': 1, 'trata': 0, 'qué': 0, 'hasta': 2, 'tiendas': 0, 'Andalucía': 1, 'pese': 0, 'comenzado': 1, 'El': 2, 'ocurrió': 0, 'Desde': 1, 'comunitaria\"': 0, 'sanitarios': 1, 'Salud': 0, 'Enfermedades': 0, 'directora': 0, 'se': 9, '3': 2, 'ejecutiva': 0, 'Bélgica': 1, '2': 2, 'cambios': 1, 'tanto': 0, 'reservar': 0, 'enfrentemos': 0, 'familias': 0, 'Noticia': 1, 'hay': 1, 'Y': 0, 'ministro': 0, 'tendrá': 0, 'cambien': 0, 'edad': 2, 'prensa': 0, 'a': 13, 'baja': 2, 'Variante': 0, 'caso': 0, 'etiquetas': 1, 'orden': 0, '052': 1, 'mutación': 0, 'del': 7, 'querido': 0, 'Más': 0, 'tal': 0, 'el': 20, 'tiempo': 0, '\"Al': 0, 'Por': 3, '1': 2, 'minuto': 0, 'nueva': 0, '013': 1, 'Mancha': 1, 'ofreciendo': 0, 'Covid': 0, 'comunitario': 0, '400': 0, 'ligera': 1, 'Navidad\"': 0, 'más': 7, 'pues': 0, 'infecciosas': 0, 'tras': 1, 'día': 2, '100%': 1, '929': 1, 'Rumanía': 1, 'cancelen': 0, '80': 1, 'variante': 0, 'País': 1, '\"Los': 0, 'mantienen': 1, '943': 1, 'quiere': 0, 'Jenny': 0, 'acumulada': 1, 'desahogados': 1, 'JCVI': 0, 'adulta': 0, '463': 1, 'autoridades': 0, 'ha': 2, 'disfruta': 0, 'un': 4, 'Sanitaria': 0, 'Austria': 1, 'nuevos': 1, 'procedentes': 0, 'alcanza': 1, 'descartan': 0, '99': 1, '76%': 1, 'al': 0, '89': 1, 'necesario': 0, 'alcanzado': 1, 'meses': 0, 'año': 0, 'respiratorias': 0, '6': 1, 'vacunados': 1, 'Johnson': 0, 'priorizará': 0, 'decir': 0, 'voluntaria': 0, 'exceptuando': 1, 'francamente': 0, 'cuidados': 1, 'mayores': 1, 'tercer': 0, 'contactos': 0, '184': 1, 'severas': 0, 'rechazada': 0, 'informa': 1, '38': 1, '37': 1, 'seguido': 1, 'junto': 1, 'menor': 2, 'sino': 0, 'sanitarias': 0, 'Una': 0, 'bastante': 0, 'delta': 0, 'algún': 0, 'fallecidos': 1, 'primer': 0, '087': 1, 'actual': 0, 'contundentemente': 0, 'entre': 5, 'Agencia': 0, 'teletrabajo': 0, 'orquestarse': 0, 'acortar': 0, 'transporte': 0, 'total': 2, 'años': 7, 'reducir': 0, 'espera': 0, 'complicada': 0, 'inicio': 1, 'pasa': 1, 'pedido': 0, 'La': 1, 'muertes': 1, 'europeo': 1, 'semana': 0, 'las': 4, 'ofrecerá': 0, 'saber': 0, 'ya': 4, 'Downing': 0, 'resultado': 0, 'nivel': 1, 'siete': 1, '7': 2, '150-210': 1, 'Boris': 0, '24': 2, 'otras': 1, 'país': 1, 'estarán': 0, 'España': 3, '118': 1, 'Según': 1, 'insiste': 0, 'demuestra': 0, 'regiones': 1, 'cenas': 0, 'CCAES': 1, '5': 2, 'asegurando': 0, 'población': 2, 'aunque': 1, 'afectadas': 1, 'absoluta': 0, 'goteo': 1, 'Eso': 0, '60': 1, '615': 1, 'Navarra': 1, '588': 1, '208': 2, 'menos': 1, 'mediados': 0, 'marcan': 1, 'Castilla-La': 1, 'Madrid': 1, 'Moderna': 1, 'para': 3, 'sido': 0, 'apareciendo': 0, 'Ahora': 0, 'una': 6, 'desarrolle': 0, 'oficiales': 0, 'todavía': 0, 'tendencia': 2, 'ofrecer': 0, 'anuncia': 0, 'británico': 0, 'mientras': 1, '97': 1, 'peligrosa': 0, 'VACUNACIÓNContinúa': 1, '111': 1, 'público-': 0, 'salud': 0, 'alarmantes': 0, 'descendente': 0, '10': 2, 'volver': 0, 'tienen': 0, 'Los': 1, 'contagios': 1, 'ayudar': 0, '164': 1, '98': 1, 'ómicron': 0, 'mascarilla': 0, 'Conjunto': 0, 'petición': 0, 'e': 0, 'enfermos': 1, 'África': 0, 'zanjado': 0, 'primera': 0, 'apuntado': 0, 'coronavirus': 1, 'británicos': 0, 'Chequia': 1, 'potenciar': 0, 'ello': 0, 'gente': 0, 'febrero': 0, 'todo': 0, 'lunes': 2, 'además': 0, 'bajo': 1, 'de': 41, '88': 1, 'Reino': 0, 'cuestión': 0, 'son': 3, 'sin': 1, 'admitido': 0, '44': 2, 'apoyar': 0, 'ir': 0, 'descarte': 0, 'solo': 1, 'desde': 0, 'Javid': 0, '911': 1, 'esté': 0, 'termine': 0, 'adultos': 0, 'días': 1, 'escenario': 0, 'arbolitos': 0, 'Alertas': 1, 'sitúa': 3, 'millones': 0, 'priorizaremos': 0, 'clave': 1, 'Sajid': 0, 'limitase': 0, '103': 1, 'anunciado': 0, 'hacer': 0, 'administrado': 1, 'Unido': 0, 'pandemia': 1, 'cita': 0, 'continente': 1, 'Se': 1, 'terceras': 1, 'afectado': 1, 'vacaciones': 0, '71': 2, 'edades': 2, 'temas': 0, 'personas': 2, 'inocular': 1, 'ofrecerse': 0, 'lento': 1, 'pasado': 0, 'fallecimientos': 1, 'nuevas': 0, 'enero': 0, 'sur': 0, 'cada': 0, 'Sanidad': 4, 'sumar': 1, 'existe': 0, 'nos': 0, 'por': 4, '3%': 1, 'frente': 2, 'que': 9, 'explicado': 0, '40': 1, 'sus': 1, '94': 1, 'AVANCE': 1, 'Le': 1, 'profesión': 0, 'sociales': 0, '53': 1, 'precisamente': 0, 'estar': 0, '242': 1, '922': 1, 'Uno': 0, 'empresas': 0, 'nuevo': 0, '342': 1, 'seguramente': 0, 'registrado': 1, 'En': 2, 'extienda': 0, '100': 2, 'restante': 1, 'Extremadura': 1, 'casos': 6, 'miedo': 0, 'informe': 2, 'Harries': 0, 'utilizar': 0, 'vacuna': 0, '200': 1, 'estrenadas': 0, 'ocupadas': 1, 'Pfizer': 1, '49': 1, 'De': 0, '000': 2, 'mortalidad': 1, 'Seguridad': 0, 'Coronavirus': 0, 'número': 1, 'calcular': 1, 'expansión': 0, 'Tras': 1, 'acuerdo': 0, 'Janssen': 1, 'extranjero': 0, 'van': 0, 'conocer': 0, '54': 1, 'según': 2, 'Inmunización': 0, '212': 1, 'franja': 1, 'aumento': 1, 'Suecia': 1, 'podría': 0, 'contempla': 0, 'recibido': 2, '261': 2, 'subir': 1, 'Ministerio': 2, '162': 1, 'sentido': 0, 'evitar': 0, 'transmitiéndose': 0, '18': 0, '\"realistas\"': 0, 'con': 6, 'militares': 0, 'Es': 0, 'ni': 0, 'mantiene': 2, 'Coordinación': 1, 'sistema': 0, '\"Se': 0, 'relevante': 0, 'notificado': 1, 'Ceuta': 1, '4': 2, 'afrontar': 0, '370': 1, 'Aun': 1, 'dar': 0, '20': 1, 'durante': 0, '30': 2, 'julio': 0, '12': 1, 'tres': 0, 'vuelva': 0, 'Ómicron': 0, 'antes': 0, 'Además': 0, 'plazos': 0, 'queda': 1, 'crudo': 0, '19': 1, 'confinamiento': 0, 'virus': 0, 'vacunación': 1, 'casi': 2, 'Vacunas': 0, 'incidencia': 4, 'si': 0, '4%': 1, 'en': 7, 'hospitalaria': 1, 'registra': 1, 'prácticamente': 0, 'ingresados': 1, '116': 1, 'posibilidades': 0, '541': 1, 'hoy': 2, 'mayor': 1, 'ritmo': 0, '91': 1, 'porcentaje': 3, 'notificar': 1, 'Sanitarias': 1, 'tercera': 0, 'vuelos': 0, 'Vacunación': 0, 'superior': 2, 'DE': 1, 'datos': 2, 'empresa': 0, '11': 2, 'diez': 1, '66': 1, 'vacunar': 0, 'palabras': 0, 'pidiendo': 0, 'cirugías': 1, 'momento': 1, 'Navidades': 0, 'médica': 0, 'ocurrido': 0, 'grupos': 0, 'tampoco': 0, 'siendo': 1, 'UCI': 1, 'detectar': 1, '2021-11-30\\n\\n': 1, 'próximas': 0, 'concreto': 1, 'comunitaria': 0, '143': 1, 'todos': 0, 'continúa': 1, '1%': 1, 'lugar': 0, 'margen': 0, 'obligación': 0, 'A': 1, 'ante': 0, 'allá': 0, 'situación': 1, 'Centro': 1, 'está': 0, 'pauta': 2, 'la': 14, 'hubiesen': 1, 'obtenga': 0, 'riesgo': 1, 'siguen': 1, 'conseguiría': 0, 'reconocen': 0, 'real': 1, 'igual': 0, 'hecho': 0, '70': 1, 'británicas': 0, 'rueda': 0, 'Aragón': 1, '08': 1, 'países': 1, 'y': 16, 'primero': 0, 'acabe': 0, 'nacional': 0, 'Para': 0, 'protegemos': 0, 'medio': 1, 'patologías': 1, 'no': 0, 'ocupación': 2, '22': 1, 'camas': 2, 'vista': 0, 'asegurarnos': 0, 'después': 1, 'pinchazo': 0, 'proceso': 0, '33;': 1, 'fechas': 0, 'remotas\"': 0, 'completa': 2, '160': 1, 'recomendado': 0, 'ahora': 0, '142': 1, 'refuerzo': 1, 'posibilidad': 0, '-es': 0, 'los': 11, 'destinará': 0, 'administración': 0, 'probable': 0, 'pero': 0, 'Las': 1, 'grupo': 4, 'médicos': 0, 'martes': 1, 'campaña': 0, 'Street': 0, 'recogen': 1, 'Aunque': 0, 'diana': 1, 'único': 1, 'dosis': 3, '39': 2, 'temporales': 0, 'como': 1, '484': 1, 'indicador': 1, 'tajante': 0, 'transmisión': 0, 'Comité': 0, 'libertad': 0, 'invierno': 0, 'vez': 1, 'necesaria': 0, 'llegada': 0, 'produciendo': 0, 'estudios': 0, '\"absolutamente': 0, 'equilibrado\"': 0, 'ciudadanía': 0, '\"Hay': 0, 'así': 2, 'llegar': 1, 'condición': 0, 'intensivos': 1, 'IA': 4, 'ocho': 1, 'sube': 1, 'o': 2, 'posibles': 1, 'Ciencia': 0, 'centros': 0, 'objetivo': 0, 'descartada': 0, 'avanzado': 0, 'producido': 1, 'Gobierno': 0, 'toda': 0, 'mismo': 0, 'realistas': 0, 'confirmados': 0, 'puntos': 3, 'Covid-19': 1, 'cualquier': 0, 'adicionales': 1, 'sí': 0, '9': 1, 'restricciones': 0, 'encuentren': 1, 'supera': 1, 'Vasco': 1, 'cinco': 0, '893': 1, 'habitantes': 1, 'segundo': 0, 'Emergencias': 1, '77': 1, 'han': 4, 'punto': 1, 'futuro': 0, 'también': 2, 'sufre': 0, 'este': 1, 'hospitales': 1, 'cuanto': 1, 'aumentase': 0, 'unidades': 1, 'esconde': 0, 'último': 1, 'pacientes': 1, 'lo': 0, 'esto': 0, 'Navidad': 0, 'vulnerables\"': 0, 'territorio': 0, 'constituyéndose': 1, 'es': 2, '249': 1, 'ser': 1}\n"
     ]
    }
   ],
   "source": [
    "palabrasB = dict.fromkeys(tabla, 0)\n",
    "for p in bagB:\n",
    "    palabrasB[p] += 1\n",
    "del palabrasB['']\n",
    "print(len(palabrasB.keys()))\n",
    "print(palabrasB)"
   ]
  },
  {
   "cell_type": "markdown",
   "metadata": {},
   "source": [
    "Comenzamos con el TF, es decir, la frecuencia de una palabra en un documento concreto. Si por ejemplo quisiéramos saber la TF de una palabra X en el documento A simplemente dividimos las ocurrencias entre el número de palabras con las que el doc cuenta."
   ]
  },
  {
   "cell_type": "code",
   "execution_count": 72,
   "metadata": {},
   "outputs": [],
   "source": [
    "def calculateTF (wordDict, bagOfWords):\n",
    "    tfDict = {}\n",
    "    bagOfWordsCount = len(bagOfWords)\n",
    "    for word, count in wordDict.items():\n",
    "        tfDict[word] = count / float(bagOfWordsCount)\n",
    "    return tfDict"
   ]
  },
  {
   "cell_type": "code",
   "execution_count": 73,
   "metadata": {},
   "outputs": [],
   "source": [
    "tfA = calculateTF(palabrasA, bagA)\n",
    "tfB = calculateTF(palabrasB, bagB)"
   ]
  },
  {
   "cell_type": "code",
   "execution_count": 74,
   "metadata": {
    "scrolled": false
   },
   "outputs": [
    {
     "name": "stdout",
     "output_type": "stream",
     "text": [
      "{'detectado': 0.0011248593925759281, 'LA': 0.0, 'trata': 0.0011248593925759281, 'qué': 0.0011248593925759281, 'hasta': 0.0044994375703037125, 'tiendas': 0.0011248593925759281, 'Andalucía': 0.0, 'pese': 0.0011248593925759281, 'comenzado': 0.0, 'El': 0.003374578177727784, 'ocurrió': 0.0011248593925759281, 'Desde': 0.0, 'comunitaria\"': 0.0011248593925759281, 'sanitarios': 0.0, 'Salud': 0.0011248593925759281, 'Enfermedades': 0.0022497187851518562, 'directora': 0.0011248593925759281, 'se': 0.01687289088863892, '3': 0.0011248593925759281, 'ejecutiva': 0.0011248593925759281, 'Bélgica': 0.0, '2': 0.0011248593925759281, 'cambios': 0.0, 'tanto': 0.0011248593925759281, 'reservar': 0.0011248593925759281, 'enfrentemos': 0.0011248593925759281, 'familias': 0.0011248593925759281, 'Noticia': 0.0, 'hay': 0.0011248593925759281, 'Y': 0.0011248593925759281, 'ministro': 0.00562429696287964, 'tendrá': 0.0011248593925759281, 'cambien': 0.0011248593925759281, 'edad': 0.0022497187851518562, 'prensa': 0.0011248593925759281, 'a': 0.02699662542182227, 'baja': 0.0, 'Variante': 0.0011248593925759281, 'caso': 0.0022497187851518562, 'etiquetas': 0.0, 'orden': 0.0022497187851518562, '052': 0.0, 'mutación': 0.0011248593925759281, 'del': 0.012373453318335208, 'querido': 0.0011248593925759281, 'Más': 0.0011248593925759281, 'tal': 0.0011248593925759281, 'el': 0.0359955005624297, 'tiempo': 0.0022497187851518562, '\"Al': 0.0011248593925759281, 'Por': 0.0011248593925759281, '1': 0.0, 'minuto': 0.0011248593925759281, 'nueva': 0.0011248593925759281, '013': 0.0, 'Mancha': 0.0, 'ofreciendo': 0.0011248593925759281, 'Covid': 0.0011248593925759281, 'comunitario': 0.0011248593925759281, '400': 0.0011248593925759281, 'ligera': 0.0, 'Navidad\"': 0.0011248593925759281, 'más': 0.007874015748031496, 'pues': 0.0011248593925759281, 'infecciosas': 0.0011248593925759281, 'tras': 0.0, 'día': 0.0044994375703037125, '100%': 0.0, '929': 0.0, 'Rumanía': 0.0, 'cancelen': 0.0011248593925759281, '80': 0.0, 'variante': 0.0022497187851518562, 'País': 0.0, '\"Los': 0.0011248593925759281, 'mantienen': 0.0, '943': 0.0, 'quiere': 0.0011248593925759281, 'Jenny': 0.0011248593925759281, 'acumulada': 0.0, 'desahogados': 0.0, 'JCVI': 0.0011248593925759281, 'adulta': 0.0022497187851518562, '463': 0.0, 'autoridades': 0.0022497187851518562, 'ha': 0.015748031496062992, 'disfruta': 0.0011248593925759281, 'un': 0.00562429696287964, 'Sanitaria': 0.0011248593925759281, 'Austria': 0.0, 'nuevos': 0.0, 'procedentes': 0.0011248593925759281, 'alcanza': 0.0, 'descartan': 0.0011248593925759281, '99': 0.0, '76%': 0.0, 'al': 0.0011248593925759281, '89': 0.0, 'necesario': 0.0022497187851518562, 'alcanzado': 0.0, 'meses': 0.0011248593925759281, 'año': 0.0022497187851518562, 'respiratorias': 0.0011248593925759281, '6': 0.0, 'vacunados': 0.0, 'Johnson': 0.0022497187851518562, 'priorizará': 0.0011248593925759281, 'decir': 0.0022497187851518562, 'voluntaria': 0.0011248593925759281, 'exceptuando': 0.0, 'francamente': 0.0011248593925759281, 'cuidados': 0.0, 'mayores': 0.003374578177727784, 'tercer': 0.0011248593925759281, 'contactos': 0.0011248593925759281, '184': 0.0, 'severas': 0.0011248593925759281, 'rechazada': 0.0011248593925759281, 'informa': 0.0, '38': 0.0, '37': 0.0, 'seguido': 0.0, 'junto': 0.0, 'menor': 0.0, 'sino': 0.0011248593925759281, 'sanitarias': 0.0011248593925759281, 'Una': 0.0011248593925759281, 'bastante': 0.0011248593925759281, 'delta': 0.0011248593925759281, 'algún': 0.0011248593925759281, 'fallecidos': 0.0, 'primer': 0.003374578177727784, '087': 0.0, 'actual': 0.0011248593925759281, 'contundentemente': 0.0011248593925759281, 'entre': 0.0011248593925759281, 'Agencia': 0.0011248593925759281, 'teletrabajo': 0.0011248593925759281, 'orquestarse': 0.0011248593925759281, 'acortar': 0.0011248593925759281, 'transporte': 0.0011248593925759281, 'total': 0.0, 'años': 0.003374578177727784, 'reducir': 0.0011248593925759281, 'espera': 0.0011248593925759281, 'complicada': 0.0011248593925759281, 'inicio': 0.0, 'pasa': 0.0, 'pedido': 0.0022497187851518562, 'La': 0.0, 'muertes': 0.0, 'europeo': 0.0, 'semana': 0.0011248593925759281, 'las': 0.014623172103487065, 'ofrecerá': 0.0011248593925759281, 'saber': 0.0011248593925759281, 'ya': 0.0044994375703037125, 'Downing': 0.0011248593925759281, 'resultado': 0.0011248593925759281, 'nivel': 0.0011248593925759281, 'siete': 0.0, '7': 0.0, '150-210': 0.0, 'Boris': 0.0011248593925759281, '24': 0.0, 'otras': 0.0, 'país': 0.0022497187851518562, 'estarán': 0.0011248593925759281, 'España': 0.0, '118': 0.0, 'Según': 0.0, 'insiste': 0.0011248593925759281, 'demuestra': 0.0011248593925759281, 'regiones': 0.0, 'cenas': 0.0011248593925759281, 'CCAES': 0.0, '5': 0.0022497187851518562, 'asegurando': 0.0011248593925759281, 'población': 0.003374578177727784, 'aunque': 0.003374578177727784, 'afectadas': 0.0, 'absoluta': 0.0011248593925759281, 'goteo': 0.0, 'Eso': 0.0011248593925759281, '60': 0.0, '615': 0.0, 'Navarra': 0.0, '588': 0.0, '208': 0.0, 'menos': 0.0, 'mediados': 0.0011248593925759281, 'marcan': 0.0, 'Castilla-La': 0.0, 'Madrid': 0.0, 'Moderna': 0.0, 'para': 0.008998875140607425, 'sido': 0.003374578177727784, 'apareciendo': 0.0011248593925759281, 'Ahora': 0.0011248593925759281, 'una': 0.003374578177727784, 'desarrolle': 0.0011248593925759281, 'oficiales': 0.0011248593925759281, 'todavía': 0.0011248593925759281, 'tendencia': 0.0, 'ofrecer': 0.0011248593925759281, 'anuncia': 0.0011248593925759281, 'británico': 0.003374578177727784, 'mientras': 0.0, '97': 0.0, 'peligrosa': 0.0011248593925759281, 'VACUNACIÓNContinúa': 0.0, '111': 0.0, 'público-': 0.0011248593925759281, 'salud': 0.0011248593925759281, 'alarmantes': 0.0011248593925759281, 'descendente': 0.0011248593925759281, '10': 0.0011248593925759281, 'volver': 0.0022497187851518562, 'tienen': 0.0011248593925759281, 'Los': 0.0011248593925759281, 'contagios': 0.0, 'ayudar': 0.0022497187851518562, '164': 0.0, '98': 0.0, 'ómicron': 0.0044994375703037125, 'mascarilla': 0.0011248593925759281, 'Conjunto': 0.0011248593925759281, 'petición': 0.0011248593925759281, 'e': 0.0011248593925759281, 'enfermos': 0.0, 'África': 0.0011248593925759281, 'zanjado': 0.0011248593925759281, 'primera': 0.0011248593925759281, 'apuntado': 0.0011248593925759281, 'coronavirus': 0.0011248593925759281, 'británicos': 0.0011248593925759281, 'Chequia': 0.0, 'potenciar': 0.0011248593925759281, 'ello': 0.0011248593925759281, 'gente': 0.0011248593925759281, 'febrero': 0.0011248593925759281, 'todo': 0.003374578177727784, 'lunes': 0.0, 'además': 0.0011248593925759281, 'bajo': 0.0, 'de': 0.06186726659167604, '88': 0.0, 'Reino': 0.0044994375703037125, 'cuestión': 0.0011248593925759281, 'son': 0.0022497187851518562, 'sin': 0.0, 'admitido': 0.0022497187851518562, '44': 0.0, 'apoyar': 0.0011248593925759281, 'ir': 0.0022497187851518562, 'descarte': 0.0011248593925759281, 'solo': 0.003374578177727784, 'desde': 0.0044994375703037125, 'Javid': 0.0022497187851518562, '911': 0.0, 'esté': 0.0022497187851518562, 'termine': 0.0022497187851518562, 'adultos': 0.0011248593925759281, 'días': 0.0, 'escenario': 0.0022497187851518562, 'arbolitos': 0.0011248593925759281, 'Alertas': 0.0, 'sitúa': 0.0, 'millones': 0.003374578177727784, 'priorizaremos': 0.0011248593925759281, 'clave': 0.0, 'Sajid': 0.0022497187851518562, 'limitase': 0.0011248593925759281, '103': 0.0, 'anunciado': 0.0022497187851518562, 'hacer': 0.0011248593925759281, 'administrado': 0.0, 'Unido': 0.0044994375703037125, 'pandemia': 0.0, 'cita': 0.0011248593925759281, 'continente': 0.0, 'Se': 0.0, 'terceras': 0.0, 'afectado': 0.0, 'vacaciones': 0.0011248593925759281, '71': 0.0, 'edades': 0.0, 'temas': 0.0011248593925759281, 'personas': 0.0011248593925759281, 'inocular': 0.0, 'ofrecerse': 0.0011248593925759281, 'lento': 0.0, 'pasado': 0.0022497187851518562, 'fallecimientos': 0.0, 'nuevas': 0.0011248593925759281, 'enero': 0.0022497187851518562, 'sur': 0.0011248593925759281, 'cada': 0.0011248593925759281, 'Sanidad': 0.0022497187851518562, 'sumar': 0.0, 'existe': 0.0011248593925759281, 'nos': 0.0011248593925759281, 'por': 0.0044994375703037125, '3%': 0.0, 'frente': 0.0, 'que': 0.043869516310461196, 'explicado': 0.0011248593925759281, '40': 0.0011248593925759281, 'sus': 0.0011248593925759281, '94': 0.0, 'AVANCE': 0.0, 'Le': 0.0, 'profesión': 0.0011248593925759281, 'sociales': 0.0011248593925759281, '53': 0.0, 'precisamente': 0.0011248593925759281, 'estar': 0.0011248593925759281, '242': 0.0, '922': 0.0, 'Uno': 0.0011248593925759281, 'empresas': 0.0011248593925759281, 'nuevo': 0.0022497187851518562, '342': 0.0, 'seguramente': 0.0011248593925759281, 'registrado': 0.0, 'En': 0.0011248593925759281, 'extienda': 0.0011248593925759281, '100': 0.0, 'restante': 0.0, 'Extremadura': 0.0, 'casos': 0.0022497187851518562, 'miedo': 0.0011248593925759281, 'informe': 0.0, 'Harries': 0.0011248593925759281, 'utilizar': 0.0011248593925759281, 'vacuna': 0.0011248593925759281, '200': 0.0, 'estrenadas': 0.0011248593925759281, 'ocupadas': 0.0, 'Pfizer': 0.0, '49': 0.0, 'De': 0.0011248593925759281, '000': 0.0, 'mortalidad': 0.0, 'Seguridad': 0.0011248593925759281, 'Coronavirus': 0.0011248593925759281, 'número': 0.0, 'calcular': 0.0, 'expansión': 0.0011248593925759281, 'Tras': 0.0, 'acuerdo': 0.0011248593925759281, 'Janssen': 0.0, 'extranjero': 0.0011248593925759281, 'van': 0.0011248593925759281, 'conocer': 0.0011248593925759281, '54': 0.0, 'según': 0.0022497187851518562, 'Inmunización': 0.0011248593925759281, '212': 0.0, 'franja': 0.0, 'aumento': 0.0, 'Suecia': 0.0, 'podría': 0.0022497187851518562, 'contempla': 0.0011248593925759281, 'recibido': 0.0, '261': 0.0, 'subir': 0.0, 'Ministerio': 0.0, '162': 0.0, 'sentido': 0.0011248593925759281, 'evitar': 0.0011248593925759281, 'transmitiéndose': 0.0011248593925759281, '18': 0.0011248593925759281, '\"realistas\"': 0.0011248593925759281, 'con': 0.003374578177727784, 'militares': 0.0011248593925759281, 'Es': 0.0011248593925759281, 'ni': 0.0022497187851518562, 'mantiene': 0.0, 'Coordinación': 0.0, 'sistema': 0.0011248593925759281, '\"Se': 0.0011248593925759281, 'relevante': 0.0011248593925759281, 'notificado': 0.0, 'Ceuta': 0.0, '4': 0.0, 'afrontar': 0.0011248593925759281, '370': 0.0, 'Aun': 0.0, 'dar': 0.0011248593925759281, '20': 0.0, 'durante': 0.0011248593925759281, '30': 0.0, 'julio': 0.0011248593925759281, '12': 0.0011248593925759281, 'tres': 0.0022497187851518562, 'vuelva': 0.003374578177727784, 'Ómicron': 0.0011248593925759281, 'antes': 0.0022497187851518562, 'Además': 0.0011248593925759281, 'plazos': 0.0011248593925759281, 'queda': 0.0, 'crudo': 0.0011248593925759281, '19': 0.0022497187851518562, 'confinamiento': 0.003374578177727784, 'virus': 0.0011248593925759281, 'vacunación': 0.00562429696287964, 'casi': 0.0011248593925759281, 'Vacunas': 0.0011248593925759281, 'incidencia': 0.0011248593925759281, 'si': 0.0011248593925759281, '4%': 0.0, 'en': 0.01799775028121485, 'hospitalaria': 0.0, 'registra': 0.0, 'prácticamente': 0.0011248593925759281, 'ingresados': 0.0, '116': 0.0, 'posibilidades': 0.0011248593925759281, '541': 0.0, 'hoy': 0.0044994375703037125, 'mayor': 0.0, 'ritmo': 0.0011248593925759281, '91': 0.0, 'porcentaje': 0.0, 'notificar': 0.0, 'Sanitarias': 0.0, 'tercera': 0.0044994375703037125, 'vuelos': 0.0011248593925759281, 'Vacunación': 0.0011248593925759281, 'superior': 0.0, 'DE': 0.0, 'datos': 0.0022497187851518562, 'empresa': 0.0011248593925759281, '11': 0.0, 'diez': 0.0, '66': 0.0, 'vacunar': 0.0011248593925759281, 'palabras': 0.0011248593925759281, 'pidiendo': 0.0011248593925759281, 'cirugías': 0.0, 'momento': 0.0022497187851518562, 'Navidades': 0.0011248593925759281, 'médica': 0.0011248593925759281, 'ocurrido': 0.0011248593925759281, 'grupos': 0.0011248593925759281, 'tampoco': 0.0011248593925759281, 'siendo': 0.0, 'UCI': 0.0, 'detectar': 0.0, '2021-11-30\\n\\n': 0.0011248593925759281, 'próximas': 0.0011248593925759281, 'concreto': 0.0, 'comunitaria': 0.0011248593925759281, '143': 0.0, 'todos': 0.0011248593925759281, 'continúa': 0.0, '1%': 0.0, 'lugar': 0.0011248593925759281, 'margen': 0.0011248593925759281, 'obligación': 0.0011248593925759281, 'A': 0.0011248593925759281, 'ante': 0.0011248593925759281, 'allá': 0.0022497187851518562, 'situación': 0.0, 'Centro': 0.0, 'está': 0.0022497187851518562, 'pauta': 0.0, 'la': 0.03824521934758155, 'hubiesen': 0.0, 'obtenga': 0.0011248593925759281, 'riesgo': 0.0, 'siguen': 0.0, 'conseguiría': 0.0011248593925759281, 'reconocen': 0.0022497187851518562, 'real': 0.0, 'igual': 0.0011248593925759281, 'hecho': 0.0022497187851518562, '70': 0.0, 'británicas': 0.0011248593925759281, 'rueda': 0.0011248593925759281, 'Aragón': 0.0, '08': 0.0, 'países': 0.0, 'y': 0.01124859392575928, 'primero': 0.0011248593925759281, 'acabe': 0.0011248593925759281, 'nacional': 0.0011248593925759281, 'Para': 0.0011248593925759281, 'protegemos': 0.0011248593925759281, 'medio': 0.0, 'patologías': 0.0, 'no': 0.010123734533183352, 'ocupación': 0.0, '22': 0.0022497187851518562, 'camas': 0.0, 'vista': 0.0011248593925759281, 'asegurarnos': 0.0011248593925759281, 'después': 0.0, 'pinchazo': 0.0011248593925759281, 'proceso': 0.0011248593925759281, '33;': 0.0, 'fechas': 0.0011248593925759281, 'remotas\"': 0.0011248593925759281, 'completa': 0.0, '160': 0.0, 'recomendado': 0.0022497187851518562, 'ahora': 0.003374578177727784, '142': 0.0, 'refuerzo': 0.0, 'posibilidad': 0.0022497187851518562, '-es': 0.0011248593925759281, 'los': 0.01124859392575928, 'destinará': 0.0011248593925759281, 'administración': 0.0011248593925759281, 'probable': 0.0011248593925759281, 'pero': 0.0022497187851518562, 'Las': 0.0, 'grupo': 0.0, 'médicos': 0.0011248593925759281, 'martes': 0.0, 'campaña': 0.0022497187851518562, 'Street': 0.0011248593925759281, 'recogen': 0.0, 'Aunque': 0.0011248593925759281, 'diana': 0.0, 'único': 0.0, 'dosis': 0.007874015748031496, '39': 0.0, 'temporales': 0.0011248593925759281, 'como': 0.0022497187851518562, '484': 0.0, 'indicador': 0.0, 'tajante': 0.0011248593925759281, 'transmisión': 0.003374578177727784, 'Comité': 0.0011248593925759281, 'libertad': 0.0011248593925759281, 'invierno': 0.0022497187851518562, 'vez': 0.0, 'necesaria': 0.0011248593925759281, 'llegada': 0.0011248593925759281, 'produciendo': 0.0022497187851518562, 'estudios': 0.0011248593925759281, '\"absolutamente': 0.0011248593925759281, 'equilibrado\"': 0.0011248593925759281, 'ciudadanía': 0.0011248593925759281, '\"Hay': 0.0011248593925759281, 'así': 0.0, 'llegar': 0.0, 'condición': 0.0011248593925759281, 'intensivos': 0.0, 'IA': 0.0, 'ocho': 0.0, 'sube': 0.0, 'o': 0.0, 'posibles': 0.0011248593925759281, 'Ciencia': 0.0011248593925759281, 'centros': 0.0011248593925759281, 'objetivo': 0.0022497187851518562, 'descartada': 0.0011248593925759281, 'avanzado': 0.0011248593925759281, 'producido': 0.0, 'Gobierno': 0.00562429696287964, 'toda': 0.0022497187851518562, 'mismo': 0.0022497187851518562, 'realistas': 0.0011248593925759281, 'confirmados': 0.0011248593925759281, 'puntos': 0.0, 'Covid-19': 0.0, 'cualquier': 0.0022497187851518562, 'adicionales': 0.0, 'sí': 0.0011248593925759281, '9': 0.0, 'restricciones': 0.003374578177727784, 'encuentren': 0.0, 'supera': 0.0, 'Vasco': 0.0, 'cinco': 0.0011248593925759281, '893': 0.0, 'habitantes': 0.0, 'segundo': 0.0011248593925759281, 'Emergencias': 0.0, '77': 0.0, 'han': 0.003374578177727784, 'punto': 0.0022497187851518562, 'futuro': 0.0011248593925759281, 'también': 0.0011248593925759281, 'sufre': 0.0011248593925759281, 'este': 0.0011248593925759281, 'hospitales': 0.0, 'cuanto': 0.0022497187851518562, 'aumentase': 0.0011248593925759281, 'unidades': 0.0, 'esconde': 0.0011248593925759281, 'último': 0.0, 'pacientes': 0.0, 'lo': 0.0044994375703037125, 'esto': 0.0011248593925759281, 'Navidad': 0.0011248593925759281, 'vulnerables\"': 0.0011248593925759281, 'territorio': 0.0022497187851518562, 'constituyéndose': 0.0, 'es': 0.007874015748031496, '249': 0.0, 'ser': 0.003374578177727784}\n",
      "{'detectado': 0.0, 'LA': 0.0015527950310559005, 'trata': 0.0, 'qué': 0.0, 'hasta': 0.003105590062111801, 'tiendas': 0.0, 'Andalucía': 0.0015527950310559005, 'pese': 0.0, 'comenzado': 0.0015527950310559005, 'El': 0.003105590062111801, 'ocurrió': 0.0, 'Desde': 0.0015527950310559005, 'comunitaria\"': 0.0, 'sanitarios': 0.0015527950310559005, 'Salud': 0.0, 'Enfermedades': 0.0, 'directora': 0.0, 'se': 0.013975155279503106, '3': 0.003105590062111801, 'ejecutiva': 0.0, 'Bélgica': 0.0015527950310559005, '2': 0.003105590062111801, 'cambios': 0.0015527950310559005, 'tanto': 0.0, 'reservar': 0.0, 'enfrentemos': 0.0, 'familias': 0.0, 'Noticia': 0.0015527950310559005, 'hay': 0.0015527950310559005, 'Y': 0.0, 'ministro': 0.0, 'tendrá': 0.0, 'cambien': 0.0, 'edad': 0.003105590062111801, 'prensa': 0.0, 'a': 0.020186335403726708, 'baja': 0.003105590062111801, 'Variante': 0.0, 'caso': 0.0, 'etiquetas': 0.0015527950310559005, 'orden': 0.0, '052': 0.0015527950310559005, 'mutación': 0.0, 'del': 0.010869565217391304, 'querido': 0.0, 'Más': 0.0, 'tal': 0.0, 'el': 0.031055900621118012, 'tiempo': 0.0, '\"Al': 0.0, 'Por': 0.004658385093167702, '1': 0.003105590062111801, 'minuto': 0.0, 'nueva': 0.0, '013': 0.0015527950310559005, 'Mancha': 0.0015527950310559005, 'ofreciendo': 0.0, 'Covid': 0.0, 'comunitario': 0.0, '400': 0.0, 'ligera': 0.0015527950310559005, 'Navidad\"': 0.0, 'más': 0.010869565217391304, 'pues': 0.0, 'infecciosas': 0.0, 'tras': 0.0015527950310559005, 'día': 0.003105590062111801, '100%': 0.0015527950310559005, '929': 0.0015527950310559005, 'Rumanía': 0.0015527950310559005, 'cancelen': 0.0, '80': 0.0015527950310559005, 'variante': 0.0, 'País': 0.0015527950310559005, '\"Los': 0.0, 'mantienen': 0.0015527950310559005, '943': 0.0015527950310559005, 'quiere': 0.0, 'Jenny': 0.0, 'acumulada': 0.0015527950310559005, 'desahogados': 0.0015527950310559005, 'JCVI': 0.0, 'adulta': 0.0, '463': 0.0015527950310559005, 'autoridades': 0.0, 'ha': 0.003105590062111801, 'disfruta': 0.0, 'un': 0.006211180124223602, 'Sanitaria': 0.0, 'Austria': 0.0015527950310559005, 'nuevos': 0.0015527950310559005, 'procedentes': 0.0, 'alcanza': 0.0015527950310559005, 'descartan': 0.0, '99': 0.0015527950310559005, '76%': 0.0015527950310559005, 'al': 0.0, '89': 0.0015527950310559005, 'necesario': 0.0, 'alcanzado': 0.0015527950310559005, 'meses': 0.0, 'año': 0.0, 'respiratorias': 0.0, '6': 0.0015527950310559005, 'vacunados': 0.0015527950310559005, 'Johnson': 0.0, 'priorizará': 0.0, 'decir': 0.0, 'voluntaria': 0.0, 'exceptuando': 0.0015527950310559005, 'francamente': 0.0, 'cuidados': 0.0015527950310559005, 'mayores': 0.0015527950310559005, 'tercer': 0.0, 'contactos': 0.0, '184': 0.0015527950310559005, 'severas': 0.0, 'rechazada': 0.0, 'informa': 0.0015527950310559005, '38': 0.0015527950310559005, '37': 0.0015527950310559005, 'seguido': 0.0015527950310559005, 'junto': 0.0015527950310559005, 'menor': 0.003105590062111801, 'sino': 0.0, 'sanitarias': 0.0, 'Una': 0.0, 'bastante': 0.0, 'delta': 0.0, 'algún': 0.0, 'fallecidos': 0.0015527950310559005, 'primer': 0.0, '087': 0.0015527950310559005, 'actual': 0.0, 'contundentemente': 0.0, 'entre': 0.007763975155279503, 'Agencia': 0.0, 'teletrabajo': 0.0, 'orquestarse': 0.0, 'acortar': 0.0, 'transporte': 0.0, 'total': 0.003105590062111801, 'años': 0.010869565217391304, 'reducir': 0.0, 'espera': 0.0, 'complicada': 0.0, 'inicio': 0.0015527950310559005, 'pasa': 0.0015527950310559005, 'pedido': 0.0, 'La': 0.0015527950310559005, 'muertes': 0.0015527950310559005, 'europeo': 0.0015527950310559005, 'semana': 0.0, 'las': 0.006211180124223602, 'ofrecerá': 0.0, 'saber': 0.0, 'ya': 0.006211180124223602, 'Downing': 0.0, 'resultado': 0.0, 'nivel': 0.0015527950310559005, 'siete': 0.0015527950310559005, '7': 0.003105590062111801, '150-210': 0.0015527950310559005, 'Boris': 0.0, '24': 0.003105590062111801, 'otras': 0.0015527950310559005, 'país': 0.0015527950310559005, 'estarán': 0.0, 'España': 0.004658385093167702, '118': 0.0015527950310559005, 'Según': 0.0015527950310559005, 'insiste': 0.0, 'demuestra': 0.0, 'regiones': 0.0015527950310559005, 'cenas': 0.0, 'CCAES': 0.0015527950310559005, '5': 0.003105590062111801, 'asegurando': 0.0, 'población': 0.003105590062111801, 'aunque': 0.0015527950310559005, 'afectadas': 0.0015527950310559005, 'absoluta': 0.0, 'goteo': 0.0015527950310559005, 'Eso': 0.0, '60': 0.0015527950310559005, '615': 0.0015527950310559005, 'Navarra': 0.0015527950310559005, '588': 0.0015527950310559005, '208': 0.003105590062111801, 'menos': 0.0015527950310559005, 'mediados': 0.0, 'marcan': 0.0015527950310559005, 'Castilla-La': 0.0015527950310559005, 'Madrid': 0.0015527950310559005, 'Moderna': 0.0015527950310559005, 'para': 0.004658385093167702, 'sido': 0.0, 'apareciendo': 0.0, 'Ahora': 0.0, 'una': 0.009316770186335404, 'desarrolle': 0.0, 'oficiales': 0.0, 'todavía': 0.0, 'tendencia': 0.003105590062111801, 'ofrecer': 0.0, 'anuncia': 0.0, 'británico': 0.0, 'mientras': 0.0015527950310559005, '97': 0.0015527950310559005, 'peligrosa': 0.0, 'VACUNACIÓNContinúa': 0.0015527950310559005, '111': 0.0015527950310559005, 'público-': 0.0, 'salud': 0.0, 'alarmantes': 0.0, 'descendente': 0.0, '10': 0.003105590062111801, 'volver': 0.0, 'tienen': 0.0, 'Los': 0.0015527950310559005, 'contagios': 0.0015527950310559005, 'ayudar': 0.0, '164': 0.0015527950310559005, '98': 0.0015527950310559005, 'ómicron': 0.0, 'mascarilla': 0.0, 'Conjunto': 0.0, 'petición': 0.0, 'e': 0.0, 'enfermos': 0.0015527950310559005, 'África': 0.0, 'zanjado': 0.0, 'primera': 0.0, 'apuntado': 0.0, 'coronavirus': 0.0015527950310559005, 'británicos': 0.0, 'Chequia': 0.0015527950310559005, 'potenciar': 0.0, 'ello': 0.0, 'gente': 0.0, 'febrero': 0.0, 'todo': 0.0, 'lunes': 0.003105590062111801, 'además': 0.0, 'bajo': 0.0015527950310559005, 'de': 0.06366459627329192, '88': 0.0015527950310559005, 'Reino': 0.0, 'cuestión': 0.0, 'son': 0.004658385093167702, 'sin': 0.0015527950310559005, 'admitido': 0.0, '44': 0.003105590062111801, 'apoyar': 0.0, 'ir': 0.0, 'descarte': 0.0, 'solo': 0.0015527950310559005, 'desde': 0.0, 'Javid': 0.0, '911': 0.0015527950310559005, 'esté': 0.0, 'termine': 0.0, 'adultos': 0.0, 'días': 0.0015527950310559005, 'escenario': 0.0, 'arbolitos': 0.0, 'Alertas': 0.0015527950310559005, 'sitúa': 0.004658385093167702, 'millones': 0.0, 'priorizaremos': 0.0, 'clave': 0.0015527950310559005, 'Sajid': 0.0, 'limitase': 0.0, '103': 0.0015527950310559005, 'anunciado': 0.0, 'hacer': 0.0, 'administrado': 0.0015527950310559005, 'Unido': 0.0, 'pandemia': 0.0015527950310559005, 'cita': 0.0, 'continente': 0.0015527950310559005, 'Se': 0.0015527950310559005, 'terceras': 0.0015527950310559005, 'afectado': 0.0015527950310559005, 'vacaciones': 0.0, '71': 0.003105590062111801, 'edades': 0.003105590062111801, 'temas': 0.0, 'personas': 0.003105590062111801, 'inocular': 0.0015527950310559005, 'ofrecerse': 0.0, 'lento': 0.0015527950310559005, 'pasado': 0.0, 'fallecimientos': 0.0015527950310559005, 'nuevas': 0.0, 'enero': 0.0, 'sur': 0.0, 'cada': 0.0, 'Sanidad': 0.006211180124223602, 'sumar': 0.0015527950310559005, 'existe': 0.0, 'nos': 0.0, 'por': 0.006211180124223602, '3%': 0.0015527950310559005, 'frente': 0.003105590062111801, 'que': 0.013975155279503106, 'explicado': 0.0, '40': 0.0015527950310559005, 'sus': 0.0015527950310559005, '94': 0.0015527950310559005, 'AVANCE': 0.0015527950310559005, 'Le': 0.0015527950310559005, 'profesión': 0.0, 'sociales': 0.0, '53': 0.0015527950310559005, 'precisamente': 0.0, 'estar': 0.0, '242': 0.0015527950310559005, '922': 0.0015527950310559005, 'Uno': 0.0, 'empresas': 0.0, 'nuevo': 0.0, '342': 0.0015527950310559005, 'seguramente': 0.0, 'registrado': 0.0015527950310559005, 'En': 0.003105590062111801, 'extienda': 0.0, '100': 0.003105590062111801, 'restante': 0.0015527950310559005, 'Extremadura': 0.0015527950310559005, 'casos': 0.009316770186335404, 'miedo': 0.0, 'informe': 0.003105590062111801, 'Harries': 0.0, 'utilizar': 0.0, 'vacuna': 0.0, '200': 0.0015527950310559005, 'estrenadas': 0.0, 'ocupadas': 0.0015527950310559005, 'Pfizer': 0.0015527950310559005, '49': 0.0015527950310559005, 'De': 0.0, '000': 0.003105590062111801, 'mortalidad': 0.0015527950310559005, 'Seguridad': 0.0, 'Coronavirus': 0.0, 'número': 0.0015527950310559005, 'calcular': 0.0015527950310559005, 'expansión': 0.0, 'Tras': 0.0015527950310559005, 'acuerdo': 0.0, 'Janssen': 0.0015527950310559005, 'extranjero': 0.0, 'van': 0.0, 'conocer': 0.0, '54': 0.0015527950310559005, 'según': 0.003105590062111801, 'Inmunización': 0.0, '212': 0.0015527950310559005, 'franja': 0.0015527950310559005, 'aumento': 0.0015527950310559005, 'Suecia': 0.0015527950310559005, 'podría': 0.0, 'contempla': 0.0, 'recibido': 0.003105590062111801, '261': 0.003105590062111801, 'subir': 0.0015527950310559005, 'Ministerio': 0.003105590062111801, '162': 0.0015527950310559005, 'sentido': 0.0, 'evitar': 0.0, 'transmitiéndose': 0.0, '18': 0.0, '\"realistas\"': 0.0, 'con': 0.009316770186335404, 'militares': 0.0, 'Es': 0.0, 'ni': 0.0, 'mantiene': 0.003105590062111801, 'Coordinación': 0.0015527950310559005, 'sistema': 0.0, '\"Se': 0.0, 'relevante': 0.0, 'notificado': 0.0015527950310559005, 'Ceuta': 0.0015527950310559005, '4': 0.003105590062111801, 'afrontar': 0.0, '370': 0.0015527950310559005, 'Aun': 0.0015527950310559005, 'dar': 0.0, '20': 0.0015527950310559005, 'durante': 0.0, '30': 0.003105590062111801, 'julio': 0.0, '12': 0.0015527950310559005, 'tres': 0.0, 'vuelva': 0.0, 'Ómicron': 0.0, 'antes': 0.0, 'Además': 0.0, 'plazos': 0.0, 'queda': 0.0015527950310559005, 'crudo': 0.0, '19': 0.0015527950310559005, 'confinamiento': 0.0, 'virus': 0.0, 'vacunación': 0.0015527950310559005, 'casi': 0.003105590062111801, 'Vacunas': 0.0, 'incidencia': 0.006211180124223602, 'si': 0.0, '4%': 0.0015527950310559005, 'en': 0.010869565217391304, 'hospitalaria': 0.0015527950310559005, 'registra': 0.0015527950310559005, 'prácticamente': 0.0, 'ingresados': 0.0015527950310559005, '116': 0.0015527950310559005, 'posibilidades': 0.0, '541': 0.0015527950310559005, 'hoy': 0.003105590062111801, 'mayor': 0.0015527950310559005, 'ritmo': 0.0, '91': 0.0015527950310559005, 'porcentaje': 0.004658385093167702, 'notificar': 0.0015527950310559005, 'Sanitarias': 0.0015527950310559005, 'tercera': 0.0, 'vuelos': 0.0, 'Vacunación': 0.0, 'superior': 0.003105590062111801, 'DE': 0.0015527950310559005, 'datos': 0.003105590062111801, 'empresa': 0.0, '11': 0.003105590062111801, 'diez': 0.0015527950310559005, '66': 0.0015527950310559005, 'vacunar': 0.0, 'palabras': 0.0, 'pidiendo': 0.0, 'cirugías': 0.0015527950310559005, 'momento': 0.0015527950310559005, 'Navidades': 0.0, 'médica': 0.0, 'ocurrido': 0.0, 'grupos': 0.0, 'tampoco': 0.0, 'siendo': 0.0015527950310559005, 'UCI': 0.0015527950310559005, 'detectar': 0.0015527950310559005, '2021-11-30\\n\\n': 0.0015527950310559005, 'próximas': 0.0, 'concreto': 0.0015527950310559005, 'comunitaria': 0.0, '143': 0.0015527950310559005, 'todos': 0.0, 'continúa': 0.0015527950310559005, '1%': 0.0015527950310559005, 'lugar': 0.0, 'margen': 0.0, 'obligación': 0.0, 'A': 0.0015527950310559005, 'ante': 0.0, 'allá': 0.0, 'situación': 0.0015527950310559005, 'Centro': 0.0015527950310559005, 'está': 0.0, 'pauta': 0.003105590062111801, 'la': 0.021739130434782608, 'hubiesen': 0.0015527950310559005, 'obtenga': 0.0, 'riesgo': 0.0015527950310559005, 'siguen': 0.0015527950310559005, 'conseguiría': 0.0, 'reconocen': 0.0, 'real': 0.0015527950310559005, 'igual': 0.0, 'hecho': 0.0, '70': 0.0015527950310559005, 'británicas': 0.0, 'rueda': 0.0, 'Aragón': 0.0015527950310559005, '08': 0.0015527950310559005, 'países': 0.0015527950310559005, 'y': 0.024844720496894408, 'primero': 0.0, 'acabe': 0.0, 'nacional': 0.0, 'Para': 0.0, 'protegemos': 0.0, 'medio': 0.0015527950310559005, 'patologías': 0.0015527950310559005, 'no': 0.0, 'ocupación': 0.003105590062111801, '22': 0.0015527950310559005, 'camas': 0.003105590062111801, 'vista': 0.0, 'asegurarnos': 0.0, 'después': 0.0015527950310559005, 'pinchazo': 0.0, 'proceso': 0.0, '33;': 0.0015527950310559005, 'fechas': 0.0, 'remotas\"': 0.0, 'completa': 0.003105590062111801, '160': 0.0015527950310559005, 'recomendado': 0.0, 'ahora': 0.0, '142': 0.0015527950310559005, 'refuerzo': 0.0015527950310559005, 'posibilidad': 0.0, '-es': 0.0, 'los': 0.017080745341614908, 'destinará': 0.0, 'administración': 0.0, 'probable': 0.0, 'pero': 0.0, 'Las': 0.0015527950310559005, 'grupo': 0.006211180124223602, 'médicos': 0.0, 'martes': 0.0015527950310559005, 'campaña': 0.0, 'Street': 0.0, 'recogen': 0.0015527950310559005, 'Aunque': 0.0, 'diana': 0.0015527950310559005, 'único': 0.0015527950310559005, 'dosis': 0.004658385093167702, '39': 0.003105590062111801, 'temporales': 0.0, 'como': 0.0015527950310559005, '484': 0.0015527950310559005, 'indicador': 0.0015527950310559005, 'tajante': 0.0, 'transmisión': 0.0, 'Comité': 0.0, 'libertad': 0.0, 'invierno': 0.0, 'vez': 0.0015527950310559005, 'necesaria': 0.0, 'llegada': 0.0, 'produciendo': 0.0, 'estudios': 0.0, '\"absolutamente': 0.0, 'equilibrado\"': 0.0, 'ciudadanía': 0.0, '\"Hay': 0.0, 'así': 0.003105590062111801, 'llegar': 0.0015527950310559005, 'condición': 0.0, 'intensivos': 0.0015527950310559005, 'IA': 0.006211180124223602, 'ocho': 0.0015527950310559005, 'sube': 0.0015527950310559005, 'o': 0.003105590062111801, 'posibles': 0.0015527950310559005, 'Ciencia': 0.0, 'centros': 0.0, 'objetivo': 0.0, 'descartada': 0.0, 'avanzado': 0.0, 'producido': 0.0015527950310559005, 'Gobierno': 0.0, 'toda': 0.0, 'mismo': 0.0, 'realistas': 0.0, 'confirmados': 0.0, 'puntos': 0.004658385093167702, 'Covid-19': 0.0015527950310559005, 'cualquier': 0.0, 'adicionales': 0.0015527950310559005, 'sí': 0.0, '9': 0.0015527950310559005, 'restricciones': 0.0, 'encuentren': 0.0015527950310559005, 'supera': 0.0015527950310559005, 'Vasco': 0.0015527950310559005, 'cinco': 0.0, '893': 0.0015527950310559005, 'habitantes': 0.0015527950310559005, 'segundo': 0.0, 'Emergencias': 0.0015527950310559005, '77': 0.0015527950310559005, 'han': 0.006211180124223602, 'punto': 0.0015527950310559005, 'futuro': 0.0, 'también': 0.003105590062111801, 'sufre': 0.0, 'este': 0.0015527950310559005, 'hospitales': 0.0015527950310559005, 'cuanto': 0.0015527950310559005, 'aumentase': 0.0, 'unidades': 0.0015527950310559005, 'esconde': 0.0, 'último': 0.0015527950310559005, 'pacientes': 0.0015527950310559005, 'lo': 0.0, 'esto': 0.0, 'Navidad': 0.0, 'vulnerables\"': 0.0, 'territorio': 0.0, 'constituyéndose': 0.0015527950310559005, 'es': 0.003105590062111801, '249': 0.0015527950310559005, 'ser': 0.0015527950310559005}\n"
     ]
    }
   ],
   "source": [
    "print(tfA)\n",
    "print(tfB)"
   ]
  },
  {
   "cell_type": "markdown",
   "metadata": {},
   "source": [
    "Ahora hacemos exactamente lo mismo pero con el IDF. "
   ]
  },
  {
   "cell_type": "code",
   "execution_count": 75,
   "metadata": {},
   "outputs": [],
   "source": [
    "def calculateIDF (docs):\n",
    "    import math\n",
    "    n = len(docs)\n",
    "    idfDict = dict.fromkeys(docs[0].keys(),0)\n",
    "    for document in docs:\n",
    "        for word, val in document.items():\n",
    "            if val > 0:\n",
    "                idfDict[word] += 1\n",
    "    \n",
    "    for word, val in idfDict.items():\n",
    "        idfDict[word] = math.log(n / float(val))\n",
    "        \n",
    "    return idfDict"
   ]
  },
  {
   "cell_type": "code",
   "execution_count": 76,
   "metadata": {},
   "outputs": [],
   "source": [
    "idfs = calculateIDF([palabrasA, palabrasB])"
   ]
  },
  {
   "cell_type": "code",
   "execution_count": 77,
   "metadata": {},
   "outputs": [
    {
     "name": "stdout",
     "output_type": "stream",
     "text": [
      "{'detectado': 0.6931471805599453, 'LA': 0.6931471805599453, 'trata': 0.6931471805599453, 'qué': 0.6931471805599453, 'hasta': 0.0, 'tiendas': 0.6931471805599453, 'Andalucía': 0.6931471805599453, 'pese': 0.6931471805599453, 'comenzado': 0.6931471805599453, 'El': 0.0, 'ocurrió': 0.6931471805599453, 'Desde': 0.6931471805599453, 'comunitaria\"': 0.6931471805599453, 'sanitarios': 0.6931471805599453, 'Salud': 0.6931471805599453, 'Enfermedades': 0.6931471805599453, 'directora': 0.6931471805599453, 'se': 0.0, '3': 0.0, 'ejecutiva': 0.6931471805599453, 'Bélgica': 0.6931471805599453, '2': 0.0, 'cambios': 0.6931471805599453, 'tanto': 0.6931471805599453, 'reservar': 0.6931471805599453, 'enfrentemos': 0.6931471805599453, 'familias': 0.6931471805599453, 'Noticia': 0.6931471805599453, 'hay': 0.0, 'Y': 0.6931471805599453, 'ministro': 0.6931471805599453, 'tendrá': 0.6931471805599453, 'cambien': 0.6931471805599453, 'edad': 0.0, 'prensa': 0.6931471805599453, 'a': 0.0, 'baja': 0.6931471805599453, 'Variante': 0.6931471805599453, 'caso': 0.6931471805599453, 'etiquetas': 0.6931471805599453, 'orden': 0.6931471805599453, '052': 0.6931471805599453, 'mutación': 0.6931471805599453, 'del': 0.0, 'querido': 0.6931471805599453, 'Más': 0.6931471805599453, 'tal': 0.6931471805599453, 'el': 0.0, 'tiempo': 0.6931471805599453, '\"Al': 0.6931471805599453, 'Por': 0.0, '1': 0.6931471805599453, 'minuto': 0.6931471805599453, 'nueva': 0.6931471805599453, '013': 0.6931471805599453, 'Mancha': 0.6931471805599453, 'ofreciendo': 0.6931471805599453, 'Covid': 0.6931471805599453, 'comunitario': 0.6931471805599453, '400': 0.6931471805599453, 'ligera': 0.6931471805599453, 'Navidad\"': 0.6931471805599453, 'más': 0.0, 'pues': 0.6931471805599453, 'infecciosas': 0.6931471805599453, 'tras': 0.6931471805599453, 'día': 0.0, '100%': 0.6931471805599453, '929': 0.6931471805599453, 'Rumanía': 0.6931471805599453, 'cancelen': 0.6931471805599453, '80': 0.6931471805599453, 'variante': 0.6931471805599453, 'País': 0.6931471805599453, '\"Los': 0.6931471805599453, 'mantienen': 0.6931471805599453, '943': 0.6931471805599453, 'quiere': 0.6931471805599453, 'Jenny': 0.6931471805599453, 'acumulada': 0.6931471805599453, 'desahogados': 0.6931471805599453, 'JCVI': 0.6931471805599453, 'adulta': 0.6931471805599453, '463': 0.6931471805599453, 'autoridades': 0.6931471805599453, 'ha': 0.0, 'disfruta': 0.6931471805599453, 'un': 0.0, 'Sanitaria': 0.6931471805599453, 'Austria': 0.6931471805599453, 'nuevos': 0.6931471805599453, 'procedentes': 0.6931471805599453, 'alcanza': 0.6931471805599453, 'descartan': 0.6931471805599453, '99': 0.6931471805599453, '76%': 0.6931471805599453, 'al': 0.6931471805599453, '89': 0.6931471805599453, 'necesario': 0.6931471805599453, 'alcanzado': 0.6931471805599453, 'meses': 0.6931471805599453, 'año': 0.6931471805599453, 'respiratorias': 0.6931471805599453, '6': 0.6931471805599453, 'vacunados': 0.6931471805599453, 'Johnson': 0.6931471805599453, 'priorizará': 0.6931471805599453, 'decir': 0.6931471805599453, 'voluntaria': 0.6931471805599453, 'exceptuando': 0.6931471805599453, 'francamente': 0.6931471805599453, 'cuidados': 0.6931471805599453, 'mayores': 0.0, 'tercer': 0.6931471805599453, 'contactos': 0.6931471805599453, '184': 0.6931471805599453, 'severas': 0.6931471805599453, 'rechazada': 0.6931471805599453, 'informa': 0.6931471805599453, '38': 0.6931471805599453, '37': 0.6931471805599453, 'seguido': 0.6931471805599453, 'junto': 0.6931471805599453, 'menor': 0.6931471805599453, 'sino': 0.6931471805599453, 'sanitarias': 0.6931471805599453, 'Una': 0.6931471805599453, 'bastante': 0.6931471805599453, 'delta': 0.6931471805599453, 'algún': 0.6931471805599453, 'fallecidos': 0.6931471805599453, 'primer': 0.6931471805599453, '087': 0.6931471805599453, 'actual': 0.6931471805599453, 'contundentemente': 0.6931471805599453, 'entre': 0.0, 'Agencia': 0.6931471805599453, 'teletrabajo': 0.6931471805599453, 'orquestarse': 0.6931471805599453, 'acortar': 0.6931471805599453, 'transporte': 0.6931471805599453, 'total': 0.6931471805599453, 'años': 0.0, 'reducir': 0.6931471805599453, 'espera': 0.6931471805599453, 'complicada': 0.6931471805599453, 'inicio': 0.6931471805599453, 'pasa': 0.6931471805599453, 'pedido': 0.6931471805599453, 'La': 0.6931471805599453, 'muertes': 0.6931471805599453, 'europeo': 0.6931471805599453, 'semana': 0.6931471805599453, 'las': 0.0, 'ofrecerá': 0.6931471805599453, 'saber': 0.6931471805599453, 'ya': 0.0, 'Downing': 0.6931471805599453, 'resultado': 0.6931471805599453, 'nivel': 0.0, 'siete': 0.6931471805599453, '7': 0.6931471805599453, '150-210': 0.6931471805599453, 'Boris': 0.6931471805599453, '24': 0.6931471805599453, 'otras': 0.6931471805599453, 'país': 0.0, 'estarán': 0.6931471805599453, 'España': 0.6931471805599453, '118': 0.6931471805599453, 'Según': 0.6931471805599453, 'insiste': 0.6931471805599453, 'demuestra': 0.6931471805599453, 'regiones': 0.6931471805599453, 'cenas': 0.6931471805599453, 'CCAES': 0.6931471805599453, '5': 0.0, 'asegurando': 0.6931471805599453, 'población': 0.0, 'aunque': 0.0, 'afectadas': 0.6931471805599453, 'absoluta': 0.6931471805599453, 'goteo': 0.6931471805599453, 'Eso': 0.6931471805599453, '60': 0.6931471805599453, '615': 0.6931471805599453, 'Navarra': 0.6931471805599453, '588': 0.6931471805599453, '208': 0.6931471805599453, 'menos': 0.6931471805599453, 'mediados': 0.6931471805599453, 'marcan': 0.6931471805599453, 'Castilla-La': 0.6931471805599453, 'Madrid': 0.6931471805599453, 'Moderna': 0.6931471805599453, 'para': 0.0, 'sido': 0.6931471805599453, 'apareciendo': 0.6931471805599453, 'Ahora': 0.6931471805599453, 'una': 0.0, 'desarrolle': 0.6931471805599453, 'oficiales': 0.6931471805599453, 'todavía': 0.6931471805599453, 'tendencia': 0.6931471805599453, 'ofrecer': 0.6931471805599453, 'anuncia': 0.6931471805599453, 'británico': 0.6931471805599453, 'mientras': 0.6931471805599453, '97': 0.6931471805599453, 'peligrosa': 0.6931471805599453, 'VACUNACIÓNContinúa': 0.6931471805599453, '111': 0.6931471805599453, 'público-': 0.6931471805599453, 'salud': 0.6931471805599453, 'alarmantes': 0.6931471805599453, 'descendente': 0.6931471805599453, '10': 0.0, 'volver': 0.6931471805599453, 'tienen': 0.6931471805599453, 'Los': 0.0, 'contagios': 0.6931471805599453, 'ayudar': 0.6931471805599453, '164': 0.6931471805599453, '98': 0.6931471805599453, 'ómicron': 0.6931471805599453, 'mascarilla': 0.6931471805599453, 'Conjunto': 0.6931471805599453, 'petición': 0.6931471805599453, 'e': 0.6931471805599453, 'enfermos': 0.6931471805599453, 'África': 0.6931471805599453, 'zanjado': 0.6931471805599453, 'primera': 0.6931471805599453, 'apuntado': 0.6931471805599453, 'coronavirus': 0.0, 'británicos': 0.6931471805599453, 'Chequia': 0.6931471805599453, 'potenciar': 0.6931471805599453, 'ello': 0.6931471805599453, 'gente': 0.6931471805599453, 'febrero': 0.6931471805599453, 'todo': 0.6931471805599453, 'lunes': 0.6931471805599453, 'además': 0.6931471805599453, 'bajo': 0.6931471805599453, 'de': 0.0, '88': 0.6931471805599453, 'Reino': 0.6931471805599453, 'cuestión': 0.6931471805599453, 'son': 0.0, 'sin': 0.6931471805599453, 'admitido': 0.6931471805599453, '44': 0.6931471805599453, 'apoyar': 0.6931471805599453, 'ir': 0.6931471805599453, 'descarte': 0.6931471805599453, 'solo': 0.0, 'desde': 0.6931471805599453, 'Javid': 0.6931471805599453, '911': 0.6931471805599453, 'esté': 0.6931471805599453, 'termine': 0.6931471805599453, 'adultos': 0.6931471805599453, 'días': 0.6931471805599453, 'escenario': 0.6931471805599453, 'arbolitos': 0.6931471805599453, 'Alertas': 0.6931471805599453, 'sitúa': 0.6931471805599453, 'millones': 0.6931471805599453, 'priorizaremos': 0.6931471805599453, 'clave': 0.6931471805599453, 'Sajid': 0.6931471805599453, 'limitase': 0.6931471805599453, '103': 0.6931471805599453, 'anunciado': 0.6931471805599453, 'hacer': 0.6931471805599453, 'administrado': 0.6931471805599453, 'Unido': 0.6931471805599453, 'pandemia': 0.6931471805599453, 'cita': 0.6931471805599453, 'continente': 0.6931471805599453, 'Se': 0.6931471805599453, 'terceras': 0.6931471805599453, 'afectado': 0.6931471805599453, 'vacaciones': 0.6931471805599453, '71': 0.6931471805599453, 'edades': 0.6931471805599453, 'temas': 0.6931471805599453, 'personas': 0.0, 'inocular': 0.6931471805599453, 'ofrecerse': 0.6931471805599453, 'lento': 0.6931471805599453, 'pasado': 0.6931471805599453, 'fallecimientos': 0.6931471805599453, 'nuevas': 0.6931471805599453, 'enero': 0.6931471805599453, 'sur': 0.6931471805599453, 'cada': 0.6931471805599453, 'Sanidad': 0.0, 'sumar': 0.6931471805599453, 'existe': 0.6931471805599453, 'nos': 0.6931471805599453, 'por': 0.0, '3%': 0.6931471805599453, 'frente': 0.6931471805599453, 'que': 0.0, 'explicado': 0.6931471805599453, '40': 0.0, 'sus': 0.0, '94': 0.6931471805599453, 'AVANCE': 0.6931471805599453, 'Le': 0.6931471805599453, 'profesión': 0.6931471805599453, 'sociales': 0.6931471805599453, '53': 0.6931471805599453, 'precisamente': 0.6931471805599453, 'estar': 0.6931471805599453, '242': 0.6931471805599453, '922': 0.6931471805599453, 'Uno': 0.6931471805599453, 'empresas': 0.6931471805599453, 'nuevo': 0.6931471805599453, '342': 0.6931471805599453, 'seguramente': 0.6931471805599453, 'registrado': 0.6931471805599453, 'En': 0.0, 'extienda': 0.6931471805599453, '100': 0.6931471805599453, 'restante': 0.6931471805599453, 'Extremadura': 0.6931471805599453, 'casos': 0.0, 'miedo': 0.6931471805599453, 'informe': 0.6931471805599453, 'Harries': 0.6931471805599453, 'utilizar': 0.6931471805599453, 'vacuna': 0.6931471805599453, '200': 0.6931471805599453, 'estrenadas': 0.6931471805599453, 'ocupadas': 0.6931471805599453, 'Pfizer': 0.6931471805599453, '49': 0.6931471805599453, 'De': 0.6931471805599453, '000': 0.6931471805599453, 'mortalidad': 0.6931471805599453, 'Seguridad': 0.6931471805599453, 'Coronavirus': 0.6931471805599453, 'número': 0.6931471805599453, 'calcular': 0.6931471805599453, 'expansión': 0.6931471805599453, 'Tras': 0.6931471805599453, 'acuerdo': 0.6931471805599453, 'Janssen': 0.6931471805599453, 'extranjero': 0.6931471805599453, 'van': 0.6931471805599453, 'conocer': 0.6931471805599453, '54': 0.6931471805599453, 'según': 0.0, 'Inmunización': 0.6931471805599453, '212': 0.6931471805599453, 'franja': 0.6931471805599453, 'aumento': 0.6931471805599453, 'Suecia': 0.6931471805599453, 'podría': 0.6931471805599453, 'contempla': 0.6931471805599453, 'recibido': 0.6931471805599453, '261': 0.6931471805599453, 'subir': 0.6931471805599453, 'Ministerio': 0.6931471805599453, '162': 0.6931471805599453, 'sentido': 0.6931471805599453, 'evitar': 0.6931471805599453, 'transmitiéndose': 0.6931471805599453, '18': 0.6931471805599453, '\"realistas\"': 0.6931471805599453, 'con': 0.0, 'militares': 0.6931471805599453, 'Es': 0.6931471805599453, 'ni': 0.6931471805599453, 'mantiene': 0.6931471805599453, 'Coordinación': 0.6931471805599453, 'sistema': 0.6931471805599453, '\"Se': 0.6931471805599453, 'relevante': 0.6931471805599453, 'notificado': 0.6931471805599453, 'Ceuta': 0.6931471805599453, '4': 0.6931471805599453, 'afrontar': 0.6931471805599453, '370': 0.6931471805599453, 'Aun': 0.6931471805599453, 'dar': 0.6931471805599453, '20': 0.6931471805599453, 'durante': 0.6931471805599453, '30': 0.6931471805599453, 'julio': 0.6931471805599453, '12': 0.0, 'tres': 0.6931471805599453, 'vuelva': 0.6931471805599453, 'Ómicron': 0.6931471805599453, 'antes': 0.6931471805599453, 'Además': 0.6931471805599453, 'plazos': 0.6931471805599453, 'queda': 0.6931471805599453, 'crudo': 0.6931471805599453, '19': 0.0, 'confinamiento': 0.6931471805599453, 'virus': 0.6931471805599453, 'vacunación': 0.0, 'casi': 0.0, 'Vacunas': 0.6931471805599453, 'incidencia': 0.0, 'si': 0.6931471805599453, '4%': 0.6931471805599453, 'en': 0.0, 'hospitalaria': 0.6931471805599453, 'registra': 0.6931471805599453, 'prácticamente': 0.6931471805599453, 'ingresados': 0.6931471805599453, '116': 0.6931471805599453, 'posibilidades': 0.6931471805599453, '541': 0.6931471805599453, 'hoy': 0.0, 'mayor': 0.6931471805599453, 'ritmo': 0.6931471805599453, '91': 0.6931471805599453, 'porcentaje': 0.6931471805599453, 'notificar': 0.6931471805599453, 'Sanitarias': 0.6931471805599453, 'tercera': 0.6931471805599453, 'vuelos': 0.6931471805599453, 'Vacunación': 0.6931471805599453, 'superior': 0.6931471805599453, 'DE': 0.6931471805599453, 'datos': 0.0, 'empresa': 0.6931471805599453, '11': 0.6931471805599453, 'diez': 0.6931471805599453, '66': 0.6931471805599453, 'vacunar': 0.6931471805599453, 'palabras': 0.6931471805599453, 'pidiendo': 0.6931471805599453, 'cirugías': 0.6931471805599453, 'momento': 0.0, 'Navidades': 0.6931471805599453, 'médica': 0.6931471805599453, 'ocurrido': 0.6931471805599453, 'grupos': 0.6931471805599453, 'tampoco': 0.6931471805599453, 'siendo': 0.6931471805599453, 'UCI': 0.6931471805599453, 'detectar': 0.6931471805599453, '2021-11-30\\n\\n': 0.0, 'próximas': 0.6931471805599453, 'concreto': 0.6931471805599453, 'comunitaria': 0.6931471805599453, '143': 0.6931471805599453, 'todos': 0.6931471805599453, 'continúa': 0.6931471805599453, '1%': 0.6931471805599453, 'lugar': 0.6931471805599453, 'margen': 0.6931471805599453, 'obligación': 0.6931471805599453, 'A': 0.0, 'ante': 0.6931471805599453, 'allá': 0.6931471805599453, 'situación': 0.6931471805599453, 'Centro': 0.6931471805599453, 'está': 0.6931471805599453, 'pauta': 0.6931471805599453, 'la': 0.0, 'hubiesen': 0.6931471805599453, 'obtenga': 0.6931471805599453, 'riesgo': 0.6931471805599453, 'siguen': 0.6931471805599453, 'conseguiría': 0.6931471805599453, 'reconocen': 0.6931471805599453, 'real': 0.6931471805599453, 'igual': 0.6931471805599453, 'hecho': 0.6931471805599453, '70': 0.6931471805599453, 'británicas': 0.6931471805599453, 'rueda': 0.6931471805599453, 'Aragón': 0.6931471805599453, '08': 0.6931471805599453, 'países': 0.6931471805599453, 'y': 0.0, 'primero': 0.6931471805599453, 'acabe': 0.6931471805599453, 'nacional': 0.6931471805599453, 'Para': 0.6931471805599453, 'protegemos': 0.6931471805599453, 'medio': 0.6931471805599453, 'patologías': 0.6931471805599453, 'no': 0.6931471805599453, 'ocupación': 0.6931471805599453, '22': 0.0, 'camas': 0.6931471805599453, 'vista': 0.6931471805599453, 'asegurarnos': 0.6931471805599453, 'después': 0.6931471805599453, 'pinchazo': 0.6931471805599453, 'proceso': 0.6931471805599453, '33;': 0.6931471805599453, 'fechas': 0.6931471805599453, 'remotas\"': 0.6931471805599453, 'completa': 0.6931471805599453, '160': 0.6931471805599453, 'recomendado': 0.6931471805599453, 'ahora': 0.6931471805599453, '142': 0.6931471805599453, 'refuerzo': 0.6931471805599453, 'posibilidad': 0.6931471805599453, '-es': 0.6931471805599453, 'los': 0.0, 'destinará': 0.6931471805599453, 'administración': 0.6931471805599453, 'probable': 0.6931471805599453, 'pero': 0.6931471805599453, 'Las': 0.6931471805599453, 'grupo': 0.6931471805599453, 'médicos': 0.6931471805599453, 'martes': 0.6931471805599453, 'campaña': 0.6931471805599453, 'Street': 0.6931471805599453, 'recogen': 0.6931471805599453, 'Aunque': 0.6931471805599453, 'diana': 0.6931471805599453, 'único': 0.6931471805599453, 'dosis': 0.0, '39': 0.6931471805599453, 'temporales': 0.6931471805599453, 'como': 0.0, '484': 0.6931471805599453, 'indicador': 0.6931471805599453, 'tajante': 0.6931471805599453, 'transmisión': 0.6931471805599453, 'Comité': 0.6931471805599453, 'libertad': 0.6931471805599453, 'invierno': 0.6931471805599453, 'vez': 0.6931471805599453, 'necesaria': 0.6931471805599453, 'llegada': 0.6931471805599453, 'produciendo': 0.6931471805599453, 'estudios': 0.6931471805599453, '\"absolutamente': 0.6931471805599453, 'equilibrado\"': 0.6931471805599453, 'ciudadanía': 0.6931471805599453, '\"Hay': 0.6931471805599453, 'así': 0.6931471805599453, 'llegar': 0.6931471805599453, 'condición': 0.6931471805599453, 'intensivos': 0.6931471805599453, 'IA': 0.6931471805599453, 'ocho': 0.6931471805599453, 'sube': 0.6931471805599453, 'o': 0.6931471805599453, 'posibles': 0.0, 'Ciencia': 0.6931471805599453, 'centros': 0.6931471805599453, 'objetivo': 0.6931471805599453, 'descartada': 0.6931471805599453, 'avanzado': 0.6931471805599453, 'producido': 0.6931471805599453, 'Gobierno': 0.6931471805599453, 'toda': 0.6931471805599453, 'mismo': 0.6931471805599453, 'realistas': 0.6931471805599453, 'confirmados': 0.6931471805599453, 'puntos': 0.6931471805599453, 'Covid-19': 0.6931471805599453, 'cualquier': 0.6931471805599453, 'adicionales': 0.6931471805599453, 'sí': 0.6931471805599453, '9': 0.6931471805599453, 'restricciones': 0.6931471805599453, 'encuentren': 0.6931471805599453, 'supera': 0.6931471805599453, 'Vasco': 0.6931471805599453, 'cinco': 0.6931471805599453, '893': 0.6931471805599453, 'habitantes': 0.6931471805599453, 'segundo': 0.6931471805599453, 'Emergencias': 0.6931471805599453, '77': 0.6931471805599453, 'han': 0.0, 'punto': 0.0, 'futuro': 0.6931471805599453, 'también': 0.0, 'sufre': 0.6931471805599453, 'este': 0.0, 'hospitales': 0.6931471805599453, 'cuanto': 0.0, 'aumentase': 0.6931471805599453, 'unidades': 0.6931471805599453, 'esconde': 0.6931471805599453, 'último': 0.6931471805599453, 'pacientes': 0.6931471805599453, 'lo': 0.6931471805599453, 'esto': 0.6931471805599453, 'Navidad': 0.6931471805599453, 'vulnerables\"': 0.6931471805599453, 'territorio': 0.6931471805599453, 'constituyéndose': 0.6931471805599453, 'es': 0.0, '249': 0.6931471805599453, 'ser': 0.0}\n"
     ]
    }
   ],
   "source": [
    "print(idfs)"
   ]
  },
  {
   "cell_type": "code",
   "execution_count": 78,
   "metadata": {},
   "outputs": [],
   "source": [
    "def calculateTFIDF(tfBagOfWords, idfs):\n",
    "    tfidf = {}\n",
    "    for word, val in tfBagOfWords.items():\n",
    "        tfidf[word] = val * idfs[word]\n",
    "    return tfidf"
   ]
  },
  {
   "cell_type": "code",
   "execution_count": 79,
   "metadata": {},
   "outputs": [],
   "source": [
    "tfidfA = calculateTFIDF(tfA, idfs)\n",
    "tfidfB = calculateTFIDF(tfB, idfs)"
   ]
  },
  {
   "cell_type": "code",
   "execution_count": 80,
   "metadata": {},
   "outputs": [
    {
     "data": {
      "text/html": [
       "<div>\n",
       "<style scoped>\n",
       "    .dataframe tbody tr th:only-of-type {\n",
       "        vertical-align: middle;\n",
       "    }\n",
       "\n",
       "    .dataframe tbody tr th {\n",
       "        vertical-align: top;\n",
       "    }\n",
       "\n",
       "    .dataframe thead th {\n",
       "        text-align: right;\n",
       "    }\n",
       "</style>\n",
       "<table border=\"1\" class=\"dataframe\">\n",
       "  <thead>\n",
       "    <tr style=\"text-align: right;\">\n",
       "      <th></th>\n",
       "      <th>detectado</th>\n",
       "      <th>LA</th>\n",
       "      <th>trata</th>\n",
       "      <th>qué</th>\n",
       "      <th>hasta</th>\n",
       "      <th>tiendas</th>\n",
       "      <th>Andalucía</th>\n",
       "      <th>pese</th>\n",
       "      <th>comenzado</th>\n",
       "      <th>El</th>\n",
       "      <th>...</th>\n",
       "      <th>pacientes</th>\n",
       "      <th>lo</th>\n",
       "      <th>esto</th>\n",
       "      <th>Navidad</th>\n",
       "      <th>vulnerables\"</th>\n",
       "      <th>territorio</th>\n",
       "      <th>constituyéndose</th>\n",
       "      <th>es</th>\n",
       "      <th>249</th>\n",
       "      <th>ser</th>\n",
       "    </tr>\n",
       "  </thead>\n",
       "  <tbody>\n",
       "    <tr>\n",
       "      <th>0</th>\n",
       "      <td>0.00078</td>\n",
       "      <td>0.000000</td>\n",
       "      <td>0.00078</td>\n",
       "      <td>0.00078</td>\n",
       "      <td>0.0</td>\n",
       "      <td>0.00078</td>\n",
       "      <td>0.000000</td>\n",
       "      <td>0.00078</td>\n",
       "      <td>0.000000</td>\n",
       "      <td>0.0</td>\n",
       "      <td>...</td>\n",
       "      <td>0.000000</td>\n",
       "      <td>0.003119</td>\n",
       "      <td>0.00078</td>\n",
       "      <td>0.00078</td>\n",
       "      <td>0.00078</td>\n",
       "      <td>0.001559</td>\n",
       "      <td>0.000000</td>\n",
       "      <td>0.0</td>\n",
       "      <td>0.000000</td>\n",
       "      <td>0.0</td>\n",
       "    </tr>\n",
       "    <tr>\n",
       "      <th>1</th>\n",
       "      <td>0.00000</td>\n",
       "      <td>0.001076</td>\n",
       "      <td>0.00000</td>\n",
       "      <td>0.00000</td>\n",
       "      <td>0.0</td>\n",
       "      <td>0.00000</td>\n",
       "      <td>0.001076</td>\n",
       "      <td>0.00000</td>\n",
       "      <td>0.001076</td>\n",
       "      <td>0.0</td>\n",
       "      <td>...</td>\n",
       "      <td>0.001076</td>\n",
       "      <td>0.000000</td>\n",
       "      <td>0.00000</td>\n",
       "      <td>0.00000</td>\n",
       "      <td>0.00000</td>\n",
       "      <td>0.000000</td>\n",
       "      <td>0.001076</td>\n",
       "      <td>0.0</td>\n",
       "      <td>0.001076</td>\n",
       "      <td>0.0</td>\n",
       "    </tr>\n",
       "  </tbody>\n",
       "</table>\n",
       "<p>2 rows × 605 columns</p>\n",
       "</div>"
      ],
      "text/plain": [
       "   detectado        LA    trata      qué  hasta  tiendas  Andalucía     pese  \\\n",
       "0    0.00078  0.000000  0.00078  0.00078    0.0  0.00078   0.000000  0.00078   \n",
       "1    0.00000  0.001076  0.00000  0.00000    0.0  0.00000   0.001076  0.00000   \n",
       "\n",
       "   comenzado   El  ...  pacientes        lo     esto  Navidad  vulnerables\"  \\\n",
       "0   0.000000  0.0  ...   0.000000  0.003119  0.00078  0.00078       0.00078   \n",
       "1   0.001076  0.0  ...   0.001076  0.000000  0.00000  0.00000       0.00000   \n",
       "\n",
       "   territorio  constituyéndose   es       249  ser  \n",
       "0    0.001559         0.000000  0.0  0.000000  0.0  \n",
       "1    0.000000         0.001076  0.0  0.001076  0.0  \n",
       "\n",
       "[2 rows x 605 columns]"
      ]
     },
     "execution_count": 80,
     "metadata": {},
     "output_type": "execute_result"
    }
   ],
   "source": [
    "df = pd.DataFrame([tfidfA, tfidfB])\n",
    "df"
   ]
  },
  {
   "cell_type": "markdown",
   "metadata": {},
   "source": [
    "Ya tendriamos el TF IDF de cada palabra en los dos documentos."
   ]
  }
 ],
 "metadata": {
  "kernelspec": {
   "display_name": "Python 3",
   "language": "python",
   "name": "python3"
  },
  "language_info": {
   "codemirror_mode": {
    "name": "ipython",
    "version": 3
   },
   "file_extension": ".py",
   "mimetype": "text/x-python",
   "name": "python",
   "nbconvert_exporter": "python",
   "pygments_lexer": "ipython3",
   "version": "3.8.5"
  }
 },
 "nbformat": 4,
 "nbformat_minor": 4
}
